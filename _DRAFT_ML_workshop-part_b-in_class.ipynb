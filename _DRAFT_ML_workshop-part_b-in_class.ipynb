{
 "cells": [
  {
   "cell_type": "markdown",
   "metadata": {},
   "source": [
    "---\n",
    "# __Machine Learning Workshop Part-B__"
   ]
  },
  {
   "cell_type": "markdown",
   "metadata": {
    "tags": []
   },
   "source": [
    "# Learning objectives\n",
    "\n",
    "At the end of the exercise, you should be able to:\n",
    "- Conduct an end-to-end classification analysis given data\n",
    "- Interpret model with example global and local interpretaion methods."
   ]
  },
  {
   "cell_type": "code",
   "execution_count": 1,
   "metadata": {},
   "outputs": [],
   "source": [
    "# First thing first: test your install\n",
    "import sklearn, pandas, matplotlib, seaborn, imblearn, numpy, shap, tqdm\n",
    "\n",
    "# If you encounter error, talk to the instructor and/or your neighbor ASAP"
   ]
  },
  {
   "cell_type": "markdown",
   "metadata": {},
   "source": [
    "## Outline\n",
    "\n",
    "- [5 min] Intro (powerpoint)\n",
    "- [[15 min] Part A review](#review)\n",
    "- [[01 min] Step 1. Define ML problem](#step1)\n",
    "- [[10 min] Step 2. Exploratory data analysis](#step2)\n",
    "- [[05 min] Step 3/4: Split train/test and feature engineering](#step3_4)\n",
    "- [[05 min] Step 5: Select model](#step5)\n",
    "- [[05 min] Step 6: Repeat 2-5](#step6)\n",
    "- [[05 min] Step 7: Evalute model](#step7)\n",
    "- [[05 min] Step 8: Interpret model](#step7)"
   ]
  },
  {
   "cell_type": "markdown",
   "metadata": {
    "tags": []
   },
   "source": [
    "----\n",
    "<a name=\"review\"></a>\n",
    "\n",
    "## __Part A review__\n",
    "\n",
    "&#9989; <font color=blue>**DO THIS:**</font> In __Part A__, we have gone thorugh the major steps. Share your understanding of each step with your neighbors and discuss if any step, terminology, or question that you have. in 5~7 minutes, we will bring the group back for a discussion."
   ]
  },
  {
   "cell_type": "markdown",
   "metadata": {},
   "source": [
    "### &#9978; **<font color=purple>PAUSE: once you finish discussion, please turn your attention to the instructor. </font>**"
   ]
  },
  {
   "cell_type": "markdown",
   "metadata": {},
   "source": [
    "----\n",
    "<a name=\"step1\"></a>\n",
    "## __Step 1. Define ML problem__\n",
    "\n",
    "___Problem statement___: \n",
    "- Given:\n",
    "  - Known genes in general metabolism (GM) or specialized metabolism (SM)\n",
    "  - Various features of genes\n",
    "    - E.g., expression levels, functional category they belong to \n",
    "- How can we use them to:\n",
    "  - Distinguish genes involved in GM from those involved in SM?\n"
   ]
  },
  {
   "cell_type": "markdown",
   "metadata": {},
   "source": [
    "&#9989; <font color=blue>**DO THIS:**</font> Discuss with your neighbors, what features should we use to best distinguish GM and SM genes?"
   ]
  },
  {
   "cell_type": "markdown",
   "metadata": {},
   "source": [
    "### &#9978; **<font color=purple>PAUSE: once you finish discussion, please turn your attention to the instructor. </font>**"
   ]
  },
  {
   "cell_type": "markdown",
   "metadata": {},
   "source": [
    "----\n",
    "<a name=\"step2\"></a>\n",
    "## __Step 2. Exploratory data analysis (EDA)__"
   ]
  },
  {
   "cell_type": "markdown",
   "metadata": {},
   "source": [
    "&#9989; **<font color=blue>DO THIS:</font>** Run the following cell to load the data. Note that we set a random seed (`rand_seed`). This is so we can reprdouce the random data generated along the way so others can repeat the same analysis and get the similar, if not the same results."
   ]
  },
  {
   "cell_type": "code",
   "execution_count": 2,
   "metadata": {},
   "outputs": [
    {
     "data": {
      "text/html": [
       "<div>\n",
       "<style scoped>\n",
       "    .dataframe tbody tr th:only-of-type {\n",
       "        vertical-align: middle;\n",
       "    }\n",
       "\n",
       "    .dataframe tbody tr th {\n",
       "        vertical-align: top;\n",
       "    }\n",
       "\n",
       "    .dataframe thead th {\n",
       "        text-align: right;\n",
       "    }\n",
       "</style>\n",
       "<table border=\"1\" class=\"dataframe\">\n",
       "  <thead>\n",
       "    <tr style=\"text-align: right;\">\n",
       "      <th></th>\n",
       "      <th>Label</th>\n",
       "      <th>Func_likelihood</th>\n",
       "      <th>Fam_size</th>\n",
       "      <th>Max_id_paralog</th>\n",
       "      <th>WGD_alpha</th>\n",
       "      <th>WGD_beta_gamma</th>\n",
       "      <th>Dup_recent</th>\n",
       "      <th>Dup_tandem</th>\n",
       "      <th>Singleton</th>\n",
       "      <th>Max_PCC_GM_abiotic</th>\n",
       "      <th>Max_PCC_SM_abiotic</th>\n",
       "      <th>Max_PCC_GM_biotic</th>\n",
       "      <th>Max_PCC_SM_biotic</th>\n",
       "      <th>Max_PCC_GM_hormone</th>\n",
       "      <th>Max_PCC_SM_hormone</th>\n",
       "      <th>Expr_med_dev</th>\n",
       "      <th>Expr_max_dev</th>\n",
       "      <th>Expr_breadth_dev</th>\n",
       "    </tr>\n",
       "    <tr>\n",
       "      <th>Gene</th>\n",
       "      <th></th>\n",
       "      <th></th>\n",
       "      <th></th>\n",
       "      <th></th>\n",
       "      <th></th>\n",
       "      <th></th>\n",
       "      <th></th>\n",
       "      <th></th>\n",
       "      <th></th>\n",
       "      <th></th>\n",
       "      <th></th>\n",
       "      <th></th>\n",
       "      <th></th>\n",
       "      <th></th>\n",
       "      <th></th>\n",
       "      <th></th>\n",
       "      <th></th>\n",
       "      <th></th>\n",
       "    </tr>\n",
       "  </thead>\n",
       "  <tbody>\n",
       "    <tr>\n",
       "      <th>AT2G29525</th>\n",
       "      <td>GM</td>\n",
       "      <td>NaN</td>\n",
       "      <td>NaN</td>\n",
       "      <td>NaN</td>\n",
       "      <td>0.0</td>\n",
       "      <td>0.0</td>\n",
       "      <td>0.0</td>\n",
       "      <td>0.0</td>\n",
       "      <td>0.0</td>\n",
       "      <td>NaN</td>\n",
       "      <td>NaN</td>\n",
       "      <td>NaN</td>\n",
       "      <td>NaN</td>\n",
       "      <td>NaN</td>\n",
       "      <td>NaN</td>\n",
       "      <td>NaN</td>\n",
       "      <td>NaN</td>\n",
       "      <td>NaN</td>\n",
       "    </tr>\n",
       "    <tr>\n",
       "      <th>AT3G55610</th>\n",
       "      <td>GM</td>\n",
       "      <td>NaN</td>\n",
       "      <td>NaN</td>\n",
       "      <td>NaN</td>\n",
       "      <td>NaN</td>\n",
       "      <td>NaN</td>\n",
       "      <td>0.0</td>\n",
       "      <td>0.0</td>\n",
       "      <td>0.0</td>\n",
       "      <td>NaN</td>\n",
       "      <td>NaN</td>\n",
       "      <td>NaN</td>\n",
       "      <td>NaN</td>\n",
       "      <td>NaN</td>\n",
       "      <td>NaN</td>\n",
       "      <td>NaN</td>\n",
       "      <td>NaN</td>\n",
       "      <td>NaN</td>\n",
       "    </tr>\n",
       "    <tr>\n",
       "      <th>AT1G76080</th>\n",
       "      <td>unknown</td>\n",
       "      <td>0.99</td>\n",
       "      <td>37.0</td>\n",
       "      <td>33.02</td>\n",
       "      <td>NaN</td>\n",
       "      <td>NaN</td>\n",
       "      <td>0.0</td>\n",
       "      <td>0.0</td>\n",
       "      <td>0.0</td>\n",
       "      <td>0.887</td>\n",
       "      <td>0.839</td>\n",
       "      <td>0.707</td>\n",
       "      <td>0.638</td>\n",
       "      <td>0.918</td>\n",
       "      <td>0.814</td>\n",
       "      <td>1371.794376</td>\n",
       "      <td>3727.492618</td>\n",
       "      <td>60.0</td>\n",
       "    </tr>\n",
       "    <tr>\n",
       "      <th>AT5G20300</th>\n",
       "      <td>unknown</td>\n",
       "      <td>0.75</td>\n",
       "      <td>7.0</td>\n",
       "      <td>40.49</td>\n",
       "      <td>0.0</td>\n",
       "      <td>0.0</td>\n",
       "      <td>0.0</td>\n",
       "      <td>0.0</td>\n",
       "      <td>0.0</td>\n",
       "      <td>0.663</td>\n",
       "      <td>0.611</td>\n",
       "      <td>0.892</td>\n",
       "      <td>0.904</td>\n",
       "      <td>0.901</td>\n",
       "      <td>0.884</td>\n",
       "      <td>251.835398</td>\n",
       "      <td>542.685924</td>\n",
       "      <td>64.0</td>\n",
       "    </tr>\n",
       "  </tbody>\n",
       "</table>\n",
       "</div>"
      ],
      "text/plain": [
       "             Label  Func_likelihood  Fam_size  Max_id_paralog  WGD_alpha  \\\n",
       "Gene                                                                       \n",
       "AT2G29525       GM              NaN       NaN             NaN        0.0   \n",
       "AT3G55610       GM              NaN       NaN             NaN        NaN   \n",
       "AT1G76080  unknown             0.99      37.0           33.02        NaN   \n",
       "AT5G20300  unknown             0.75       7.0           40.49        0.0   \n",
       "\n",
       "           WGD_beta_gamma  Dup_recent  Dup_tandem  Singleton  \\\n",
       "Gene                                                           \n",
       "AT2G29525             0.0         0.0         0.0        0.0   \n",
       "AT3G55610             NaN         0.0         0.0        0.0   \n",
       "AT1G76080             NaN         0.0         0.0        0.0   \n",
       "AT5G20300             0.0         0.0         0.0        0.0   \n",
       "\n",
       "           Max_PCC_GM_abiotic  Max_PCC_SM_abiotic  Max_PCC_GM_biotic  \\\n",
       "Gene                                                                   \n",
       "AT2G29525                 NaN                 NaN                NaN   \n",
       "AT3G55610                 NaN                 NaN                NaN   \n",
       "AT1G76080               0.887               0.839              0.707   \n",
       "AT5G20300               0.663               0.611              0.892   \n",
       "\n",
       "           Max_PCC_SM_biotic  Max_PCC_GM_hormone  Max_PCC_SM_hormone  \\\n",
       "Gene                                                                   \n",
       "AT2G29525                NaN                 NaN                 NaN   \n",
       "AT3G55610                NaN                 NaN                 NaN   \n",
       "AT1G76080              0.638               0.918               0.814   \n",
       "AT5G20300              0.904               0.901               0.884   \n",
       "\n",
       "           Expr_med_dev  Expr_max_dev  Expr_breadth_dev  \n",
       "Gene                                                     \n",
       "AT2G29525           NaN           NaN               NaN  \n",
       "AT3G55610           NaN           NaN               NaN  \n",
       "AT1G76080   1371.794376   3727.492618              60.0  \n",
       "AT5G20300    251.835398    542.685924              64.0  "
      ]
     },
     "execution_count": 2,
     "metadata": {},
     "output_type": "execute_result"
    }
   ],
   "source": [
    "import pandas as pd\n",
    "\n",
    "rand_seed = 42\n",
    "\n",
    "# COMMENT:\n",
    "# Load the dataset from the file enzyme_gene.csv as a Pandas DataFrame where the\n",
    "# `Gene` column is read in as index.\n",
    "enzyme_gene = pd.read_csv(\"enzyme_gene.csv\", index_col=0)\n",
    "\n",
    "# COMMENT:\n",
    "# get all feature names\n",
    "features = enzyme_gene.columns[1:] \n",
    "\n",
    "# get all feature names\n",
    "# Print out 4 randomly sampled instances\n",
    "enzyme_gene.sample(4)"
   ]
  },
  {
   "cell_type": "markdown",
   "metadata": {},
   "source": [
    "&#9989; **<font color=red>QUESTION:</font>** Discuss with your neighbors, which features do you think will be the best for distinguishing GM and SM genes? For what the feature names mean, see [this spreadsheet](https://docs.google.com/spreadsheets/d/1VjnlJgKsGC8GNNds7VtbYfjAQpjETkZNI6AlF9c2DAY/edit?usp=sharing). Also, put your name down for the feature you think will be the best!"
   ]
  },
  {
   "cell_type": "markdown",
   "metadata": {},
   "source": [
    "### ___2.1 Univariate EDA___"
   ]
  },
  {
   "cell_type": "markdown",
   "metadata": {},
   "source": [
    "&#9989; **<font color=blue>DO THIS:</font>** Earlier, we use `enzyme_gene.sample(4)` to get a few samples from the `enzyme_gene` dataframe. Replace `sample(4)` with `describe()` and see what information become available."
   ]
  },
  {
   "cell_type": "code",
   "execution_count": 17,
   "metadata": {},
   "outputs": [],
   "source": [
    "# Put your code here\n",
    "# If you are not sure how to proceed, look at the answer in the following cell.\n"
   ]
  },
  {
   "cell_type": "code",
   "execution_count": null,
   "metadata": {},
   "outputs": [],
   "source": [
    "##ANSWER##\n",
    "# Generate summary statics for each features\n",
    "enzyme_gene.describe()\n",
    "##ANSWER##"
   ]
  },
  {
   "cell_type": "markdown",
   "metadata": {},
   "source": [
    "&#9989; **<font color=blue>DO THIS:</font>** Write code that will tell us more about `enzyme_gene` by using:\n",
    "\n",
    "- `shape`\n",
    "- `nunique()`"
   ]
  },
  {
   "cell_type": "code",
   "execution_count": 4,
   "metadata": {},
   "outputs": [
    {
     "name": "stdout",
     "output_type": "stream",
     "text": [
      "\n",
      "Shape: (5238, 18)\n",
      "\n",
      "### Number unique:\n",
      " Label                    3\n",
      "Func_likelihood        538\n",
      "Fam_size                56\n",
      "Max_id_paralog        2525\n",
      "WGD_alpha                2\n",
      "WGD_beta_gamma           2\n",
      "Dup_recent               2\n",
      "Dup_tandem               2\n",
      "Singleton                2\n",
      "Max_PCC_GM_abiotic     429\n",
      "Max_PCC_SM_abiotic     503\n",
      "Max_PCC_GM_biotic      383\n",
      "Max_PCC_SM_biotic      450\n",
      "Max_PCC_GM_hormone     397\n",
      "Max_PCC_SM_hormone     487\n",
      "Expr_med_dev          4150\n",
      "Expr_max_dev          4149\n",
      "Expr_breadth_dev        65\n",
      "dtype: int64\n"
     ]
    }
   ],
   "source": [
    "# put your codes here\n",
    "\n",
    "# COMMENT:\n",
    "# Display the # of columns and rows\n",
    "print(\"\\nShape:\", enzyme_gene.shape)\n",
    "\n",
    "# COMMENT:\n",
    "# Display the # of unique values in each feature\n",
    "print(\"\\n### Number unique:\\n\", enzyme_gene.nunique())"
   ]
  },
  {
   "cell_type": "markdown",
   "metadata": {},
   "source": [
    "&#9989; **<font color=blue>DO THIS:</font>** Run the following to determine how many entires have `GM`, `SM`, and `Unknown` labels, respectively."
   ]
  },
  {
   "cell_type": "code",
   "execution_count": 5,
   "metadata": {},
   "outputs": [
    {
     "name": "stdout",
     "output_type": "stream",
     "text": [
      "unknown    2291\n",
      "GM         2212\n",
      "SM          410\n",
      "Name: Label, dtype: int64\n"
     ]
    }
   ],
   "source": [
    "print(enzyme_gene[\"Label\"].value_counts())"
   ]
  },
  {
   "cell_type": "markdown",
   "metadata": {},
   "source": [
    "&#9989; **<font color=blue>DO THIS:</font>** Determine the number of `null` entries in each column and print them out."
   ]
  },
  {
   "cell_type": "code",
   "execution_count": 6,
   "metadata": {},
   "outputs": [
    {
     "data": {
      "text/plain": [
       "Label                  325\n",
       "Func_likelihood       1688\n",
       "Fam_size              1086\n",
       "Max_id_paralog        1339\n",
       "WGD_alpha              469\n",
       "WGD_beta_gamma         469\n",
       "Dup_recent             737\n",
       "Dup_tandem             726\n",
       "Singleton              998\n",
       "Max_PCC_GM_abiotic    1086\n",
       "Max_PCC_SM_abiotic    1086\n",
       "Max_PCC_GM_biotic     1086\n",
       "Max_PCC_SM_biotic     1086\n",
       "Max_PCC_GM_hormone    1086\n",
       "Max_PCC_SM_hormone    1086\n",
       "Expr_med_dev          1088\n",
       "Expr_max_dev          1088\n",
       "Expr_breadth_dev      1088\n",
       "dtype: int64"
      ]
     },
     "execution_count": 6,
     "metadata": {},
     "output_type": "execute_result"
    }
   ],
   "source": [
    "enzyme_gene.isnull().sum()"
   ]
  },
  {
   "cell_type": "markdown",
   "metadata": {},
   "source": [
    "### ___2.2 Univariate graphical EDA___"
   ]
  },
  {
   "cell_type": "markdown",
   "metadata": {},
   "source": [
    "&#9989; **<font color=blue>DO THIS:</font>** Plot the histograms of all features."
   ]
  },
  {
   "cell_type": "code",
   "execution_count": 7,
   "metadata": {},
   "outputs": [
    {
     "data": {
      "image/png": "[encoded data removed]",
      "text/plain": [
       "<Figure size 864x864 with 20 Axes>"
      ]
     },
     "metadata": {
      "needs_background": "light"
     },
     "output_type": "display_data"
    }
   ],
   "source": [
    "# The 1st \":\" is to get all rows. The \"1:\" part is to get the 2nd column and on.\n",
    "feature_values = enzyme_gene.iloc[:, 1:]\n",
    "\n",
    "# Draw histogram\n",
    "hist = feature_values.hist(figsize=(12,12), bins=50)\n"
   ]
  },
  {
   "cell_type": "markdown",
   "metadata": {},
   "source": [
    "&#9989; **<font color=red>QUESTION:</font>**  Discuss with your neighbors, did you see any issues with the dataset based on the above analyses?"
   ]
  },
  {
   "cell_type": "markdown",
   "metadata": {},
   "source": [
    "### &#9978; **<font color=purple>PAUSE: once you finish discussion, please turn your attention to the instructor. </font>**"
   ]
  },
  {
   "cell_type": "markdown",
   "metadata": {},
   "source": [
    "### ___2.3 Multi-variate non-graphical EDA___"
   ]
  },
  {
   "cell_type": "markdown",
   "metadata": {},
   "source": [
    "&#9989; **<font color=blue>DO THIS:</font>** Determine pairwise Spearman's rank correlations of all features:"
   ]
  },
  {
   "cell_type": "code",
   "execution_count": 8,
   "metadata": {},
   "outputs": [
    {
     "data": {
      "text/html": [
       "<div>\n",
       "<style scoped>\n",
       "    .dataframe tbody tr th:only-of-type {\n",
       "        vertical-align: middle;\n",
       "    }\n",
       "\n",
       "    .dataframe tbody tr th {\n",
       "        vertical-align: top;\n",
       "    }\n",
       "\n",
       "    .dataframe thead th {\n",
       "        text-align: right;\n",
       "    }\n",
       "</style>\n",
       "<table border=\"1\" class=\"dataframe\">\n",
       "  <thead>\n",
       "    <tr style=\"text-align: right;\">\n",
       "      <th></th>\n",
       "      <th>Func_likelihood</th>\n",
       "      <th>Fam_size</th>\n",
       "      <th>Max_id_paralog</th>\n",
       "      <th>WGD_alpha</th>\n",
       "      <th>WGD_beta_gamma</th>\n",
       "      <th>Dup_recent</th>\n",
       "      <th>Dup_tandem</th>\n",
       "      <th>Singleton</th>\n",
       "      <th>Max_PCC_GM_abiotic</th>\n",
       "      <th>Max_PCC_SM_abiotic</th>\n",
       "      <th>Max_PCC_GM_biotic</th>\n",
       "      <th>Max_PCC_SM_biotic</th>\n",
       "      <th>Max_PCC_GM_hormone</th>\n",
       "      <th>Max_PCC_SM_hormone</th>\n",
       "      <th>Expr_med_dev</th>\n",
       "      <th>Expr_max_dev</th>\n",
       "      <th>Expr_breadth_dev</th>\n",
       "    </tr>\n",
       "  </thead>\n",
       "  <tbody>\n",
       "    <tr>\n",
       "      <th>Func_likelihood</th>\n",
       "      <td>1.000000</td>\n",
       "      <td>-0.425232</td>\n",
       "      <td>-0.044509</td>\n",
       "      <td>0.048101</td>\n",
       "      <td>-0.031368</td>\n",
       "      <td>-0.159467</td>\n",
       "      <td>-0.365871</td>\n",
       "      <td>0.145597</td>\n",
       "      <td>0.270916</td>\n",
       "      <td>0.046910</td>\n",
       "      <td>0.133880</td>\n",
       "      <td>0.010729</td>\n",
       "      <td>0.252289</td>\n",
       "      <td>0.087491</td>\n",
       "      <td>0.809380</td>\n",
       "      <td>0.486005</td>\n",
       "      <td>0.803178</td>\n",
       "    </tr>\n",
       "    <tr>\n",
       "      <th>Fam_size</th>\n",
       "      <td>-0.425232</td>\n",
       "      <td>1.000000</td>\n",
       "      <td>0.126797</td>\n",
       "      <td>-0.056985</td>\n",
       "      <td>0.013941</td>\n",
       "      <td>0.115253</td>\n",
       "      <td>0.344059</td>\n",
       "      <td>-0.206112</td>\n",
       "      <td>-0.158623</td>\n",
       "      <td>0.013337</td>\n",
       "      <td>-0.052723</td>\n",
       "      <td>0.028097</td>\n",
       "      <td>-0.096479</td>\n",
       "      <td>0.003539</td>\n",
       "      <td>-0.381190</td>\n",
       "      <td>-0.105345</td>\n",
       "      <td>-0.439901</td>\n",
       "    </tr>\n",
       "    <tr>\n",
       "      <th>Max_id_paralog</th>\n",
       "      <td>-0.044509</td>\n",
       "      <td>0.126797</td>\n",
       "      <td>1.000000</td>\n",
       "      <td>-0.028074</td>\n",
       "      <td>-0.000748</td>\n",
       "      <td>0.090542</td>\n",
       "      <td>0.231457</td>\n",
       "      <td>-0.274425</td>\n",
       "      <td>-0.026789</td>\n",
       "      <td>-0.020144</td>\n",
       "      <td>-0.027380</td>\n",
       "      <td>-0.002215</td>\n",
       "      <td>0.031349</td>\n",
       "      <td>0.060209</td>\n",
       "      <td>-0.013421</td>\n",
       "      <td>0.076196</td>\n",
       "      <td>-0.051526</td>\n",
       "    </tr>\n",
       "    <tr>\n",
       "      <th>WGD_alpha</th>\n",
       "      <td>0.048101</td>\n",
       "      <td>-0.056985</td>\n",
       "      <td>-0.028074</td>\n",
       "      <td>1.000000</td>\n",
       "      <td>0.068015</td>\n",
       "      <td>0.002366</td>\n",
       "      <td>-0.033998</td>\n",
       "      <td>0.006703</td>\n",
       "      <td>0.022448</td>\n",
       "      <td>-0.004108</td>\n",
       "      <td>0.002457</td>\n",
       "      <td>-0.011307</td>\n",
       "      <td>0.011289</td>\n",
       "      <td>0.000698</td>\n",
       "      <td>0.039406</td>\n",
       "      <td>-0.011395</td>\n",
       "      <td>0.049960</td>\n",
       "    </tr>\n",
       "    <tr>\n",
       "      <th>WGD_beta_gamma</th>\n",
       "      <td>-0.031368</td>\n",
       "      <td>0.013941</td>\n",
       "      <td>-0.000748</td>\n",
       "      <td>0.068015</td>\n",
       "      <td>1.000000</td>\n",
       "      <td>0.014659</td>\n",
       "      <td>-0.004633</td>\n",
       "      <td>-0.024479</td>\n",
       "      <td>-0.001354</td>\n",
       "      <td>-0.004194</td>\n",
       "      <td>0.014195</td>\n",
       "      <td>0.004963</td>\n",
       "      <td>0.009639</td>\n",
       "      <td>-0.004969</td>\n",
       "      <td>-0.020867</td>\n",
       "      <td>-0.006981</td>\n",
       "      <td>-0.028465</td>\n",
       "    </tr>\n",
       "    <tr>\n",
       "      <th>Dup_recent</th>\n",
       "      <td>-0.159467</td>\n",
       "      <td>0.115253</td>\n",
       "      <td>0.090542</td>\n",
       "      <td>0.002366</td>\n",
       "      <td>0.014659</td>\n",
       "      <td>1.000000</td>\n",
       "      <td>0.189511</td>\n",
       "      <td>-0.045019</td>\n",
       "      <td>-0.046663</td>\n",
       "      <td>-0.021227</td>\n",
       "      <td>-0.014142</td>\n",
       "      <td>0.008451</td>\n",
       "      <td>-0.088582</td>\n",
       "      <td>-0.061154</td>\n",
       "      <td>-0.105114</td>\n",
       "      <td>-0.102642</td>\n",
       "      <td>-0.118330</td>\n",
       "    </tr>\n",
       "    <tr>\n",
       "      <th>Dup_tandem</th>\n",
       "      <td>-0.365871</td>\n",
       "      <td>0.344059</td>\n",
       "      <td>0.231457</td>\n",
       "      <td>-0.033998</td>\n",
       "      <td>-0.004633</td>\n",
       "      <td>0.189511</td>\n",
       "      <td>1.000000</td>\n",
       "      <td>-0.141858</td>\n",
       "      <td>-0.072686</td>\n",
       "      <td>0.054327</td>\n",
       "      <td>0.009010</td>\n",
       "      <td>0.080658</td>\n",
       "      <td>-0.058476</td>\n",
       "      <td>0.042842</td>\n",
       "      <td>-0.294494</td>\n",
       "      <td>-0.136162</td>\n",
       "      <td>-0.330194</td>\n",
       "    </tr>\n",
       "    <tr>\n",
       "      <th>Singleton</th>\n",
       "      <td>0.145597</td>\n",
       "      <td>-0.206112</td>\n",
       "      <td>-0.274425</td>\n",
       "      <td>0.006703</td>\n",
       "      <td>-0.024479</td>\n",
       "      <td>-0.045019</td>\n",
       "      <td>-0.141858</td>\n",
       "      <td>1.000000</td>\n",
       "      <td>0.056676</td>\n",
       "      <td>-0.014765</td>\n",
       "      <td>0.032353</td>\n",
       "      <td>-0.006439</td>\n",
       "      <td>0.006871</td>\n",
       "      <td>-0.052028</td>\n",
       "      <td>0.108895</td>\n",
       "      <td>-0.041977</td>\n",
       "      <td>0.159309</td>\n",
       "    </tr>\n",
       "    <tr>\n",
       "      <th>Max_PCC_GM_abiotic</th>\n",
       "      <td>0.270916</td>\n",
       "      <td>-0.158623</td>\n",
       "      <td>-0.026789</td>\n",
       "      <td>0.022448</td>\n",
       "      <td>-0.001354</td>\n",
       "      <td>-0.046663</td>\n",
       "      <td>-0.072686</td>\n",
       "      <td>0.056676</td>\n",
       "      <td>1.000000</td>\n",
       "      <td>0.702527</td>\n",
       "      <td>0.327993</td>\n",
       "      <td>0.275294</td>\n",
       "      <td>0.166645</td>\n",
       "      <td>0.054970</td>\n",
       "      <td>0.312563</td>\n",
       "      <td>0.215558</td>\n",
       "      <td>0.238961</td>\n",
       "    </tr>\n",
       "    <tr>\n",
       "      <th>Max_PCC_SM_abiotic</th>\n",
       "      <td>0.046910</td>\n",
       "      <td>0.013337</td>\n",
       "      <td>-0.020144</td>\n",
       "      <td>-0.004108</td>\n",
       "      <td>-0.004194</td>\n",
       "      <td>-0.021227</td>\n",
       "      <td>0.054327</td>\n",
       "      <td>-0.014765</td>\n",
       "      <td>0.702527</td>\n",
       "      <td>1.000000</td>\n",
       "      <td>0.272101</td>\n",
       "      <td>0.311541</td>\n",
       "      <td>0.076733</td>\n",
       "      <td>0.103616</td>\n",
       "      <td>0.094686</td>\n",
       "      <td>0.151211</td>\n",
       "      <td>0.025415</td>\n",
       "    </tr>\n",
       "    <tr>\n",
       "      <th>Max_PCC_GM_biotic</th>\n",
       "      <td>0.133880</td>\n",
       "      <td>-0.052723</td>\n",
       "      <td>-0.027380</td>\n",
       "      <td>0.002457</td>\n",
       "      <td>0.014195</td>\n",
       "      <td>-0.014142</td>\n",
       "      <td>0.009010</td>\n",
       "      <td>0.032353</td>\n",
       "      <td>0.327993</td>\n",
       "      <td>0.272101</td>\n",
       "      <td>1.000000</td>\n",
       "      <td>0.786535</td>\n",
       "      <td>0.103191</td>\n",
       "      <td>0.036462</td>\n",
       "      <td>0.169092</td>\n",
       "      <td>0.173781</td>\n",
       "      <td>0.066782</td>\n",
       "    </tr>\n",
       "    <tr>\n",
       "      <th>Max_PCC_SM_biotic</th>\n",
       "      <td>0.010729</td>\n",
       "      <td>0.028097</td>\n",
       "      <td>-0.002215</td>\n",
       "      <td>-0.011307</td>\n",
       "      <td>0.004963</td>\n",
       "      <td>0.008451</td>\n",
       "      <td>0.080658</td>\n",
       "      <td>-0.006439</td>\n",
       "      <td>0.275294</td>\n",
       "      <td>0.311541</td>\n",
       "      <td>0.786535</td>\n",
       "      <td>1.000000</td>\n",
       "      <td>0.082373</td>\n",
       "      <td>0.073251</td>\n",
       "      <td>0.046364</td>\n",
       "      <td>0.138260</td>\n",
       "      <td>-0.050216</td>\n",
       "    </tr>\n",
       "    <tr>\n",
       "      <th>Max_PCC_GM_hormone</th>\n",
       "      <td>0.252289</td>\n",
       "      <td>-0.096479</td>\n",
       "      <td>0.031349</td>\n",
       "      <td>0.011289</td>\n",
       "      <td>0.009639</td>\n",
       "      <td>-0.088582</td>\n",
       "      <td>-0.058476</td>\n",
       "      <td>0.006871</td>\n",
       "      <td>0.166645</td>\n",
       "      <td>0.076733</td>\n",
       "      <td>0.103191</td>\n",
       "      <td>0.082373</td>\n",
       "      <td>1.000000</td>\n",
       "      <td>0.721146</td>\n",
       "      <td>0.272466</td>\n",
       "      <td>0.252165</td>\n",
       "      <td>0.243433</td>\n",
       "    </tr>\n",
       "    <tr>\n",
       "      <th>Max_PCC_SM_hormone</th>\n",
       "      <td>0.087491</td>\n",
       "      <td>0.003539</td>\n",
       "      <td>0.060209</td>\n",
       "      <td>0.000698</td>\n",
       "      <td>-0.004969</td>\n",
       "      <td>-0.061154</td>\n",
       "      <td>0.042842</td>\n",
       "      <td>-0.052028</td>\n",
       "      <td>0.054970</td>\n",
       "      <td>0.103616</td>\n",
       "      <td>0.036462</td>\n",
       "      <td>0.073251</td>\n",
       "      <td>0.721146</td>\n",
       "      <td>1.000000</td>\n",
       "      <td>0.113461</td>\n",
       "      <td>0.197556</td>\n",
       "      <td>0.083583</td>\n",
       "    </tr>\n",
       "    <tr>\n",
       "      <th>Expr_med_dev</th>\n",
       "      <td>0.809380</td>\n",
       "      <td>-0.381190</td>\n",
       "      <td>-0.013421</td>\n",
       "      <td>0.039406</td>\n",
       "      <td>-0.020867</td>\n",
       "      <td>-0.105114</td>\n",
       "      <td>-0.294494</td>\n",
       "      <td>0.108895</td>\n",
       "      <td>0.312563</td>\n",
       "      <td>0.094686</td>\n",
       "      <td>0.169092</td>\n",
       "      <td>0.046364</td>\n",
       "      <td>0.272466</td>\n",
       "      <td>0.113461</td>\n",
       "      <td>1.000000</td>\n",
       "      <td>0.580395</td>\n",
       "      <td>0.855852</td>\n",
       "    </tr>\n",
       "    <tr>\n",
       "      <th>Expr_max_dev</th>\n",
       "      <td>0.486005</td>\n",
       "      <td>-0.105345</td>\n",
       "      <td>0.076196</td>\n",
       "      <td>-0.011395</td>\n",
       "      <td>-0.006981</td>\n",
       "      <td>-0.102642</td>\n",
       "      <td>-0.136162</td>\n",
       "      <td>-0.041977</td>\n",
       "      <td>0.215558</td>\n",
       "      <td>0.151211</td>\n",
       "      <td>0.173781</td>\n",
       "      <td>0.138260</td>\n",
       "      <td>0.252165</td>\n",
       "      <td>0.197556</td>\n",
       "      <td>0.580395</td>\n",
       "      <td>1.000000</td>\n",
       "      <td>0.426136</td>\n",
       "    </tr>\n",
       "    <tr>\n",
       "      <th>Expr_breadth_dev</th>\n",
       "      <td>0.803178</td>\n",
       "      <td>-0.439901</td>\n",
       "      <td>-0.051526</td>\n",
       "      <td>0.049960</td>\n",
       "      <td>-0.028465</td>\n",
       "      <td>-0.118330</td>\n",
       "      <td>-0.330194</td>\n",
       "      <td>0.159309</td>\n",
       "      <td>0.238961</td>\n",
       "      <td>0.025415</td>\n",
       "      <td>0.066782</td>\n",
       "      <td>-0.050216</td>\n",
       "      <td>0.243433</td>\n",
       "      <td>0.083583</td>\n",
       "      <td>0.855852</td>\n",
       "      <td>0.426136</td>\n",
       "      <td>1.000000</td>\n",
       "    </tr>\n",
       "  </tbody>\n",
       "</table>\n",
       "</div>"
      ],
      "text/plain": [
       "                    Func_likelihood  Fam_size  Max_id_paralog  WGD_alpha  \\\n",
       "Func_likelihood            1.000000 -0.425232       -0.044509   0.048101   \n",
       "Fam_size                  -0.425232  1.000000        0.126797  -0.056985   \n",
       "Max_id_paralog            -0.044509  0.126797        1.000000  -0.028074   \n",
       "WGD_alpha                  0.048101 -0.056985       -0.028074   1.000000   \n",
       "WGD_beta_gamma            -0.031368  0.013941       -0.000748   0.068015   \n",
       "Dup_recent                -0.159467  0.115253        0.090542   0.002366   \n",
       "Dup_tandem                -0.365871  0.344059        0.231457  -0.033998   \n",
       "Singleton                  0.145597 -0.206112       -0.274425   0.006703   \n",
       "Max_PCC_GM_abiotic         0.270916 -0.158623       -0.026789   0.022448   \n",
       "Max_PCC_SM_abiotic         0.046910  0.013337       -0.020144  -0.004108   \n",
       "Max_PCC_GM_biotic          0.133880 -0.052723       -0.027380   0.002457   \n",
       "Max_PCC_SM_biotic          0.010729  0.028097       -0.002215  -0.011307   \n",
       "Max_PCC_GM_hormone         0.252289 -0.096479        0.031349   0.011289   \n",
       "Max_PCC_SM_hormone         0.087491  0.003539        0.060209   0.000698   \n",
       "Expr_med_dev               0.809380 -0.381190       -0.013421   0.039406   \n",
       "Expr_max_dev               0.486005 -0.105345        0.076196  -0.011395   \n",
       "Expr_breadth_dev           0.803178 -0.439901       -0.051526   0.049960   \n",
       "\n",
       "                    WGD_beta_gamma  Dup_recent  Dup_tandem  Singleton  \\\n",
       "Func_likelihood          -0.031368   -0.159467   -0.365871   0.145597   \n",
       "Fam_size                  0.013941    0.115253    0.344059  -0.206112   \n",
       "Max_id_paralog           -0.000748    0.090542    0.231457  -0.274425   \n",
       "WGD_alpha                 0.068015    0.002366   -0.033998   0.006703   \n",
       "WGD_beta_gamma            1.000000    0.014659   -0.004633  -0.024479   \n",
       "Dup_recent                0.014659    1.000000    0.189511  -0.045019   \n",
       "Dup_tandem               -0.004633    0.189511    1.000000  -0.141858   \n",
       "Singleton                -0.024479   -0.045019   -0.141858   1.000000   \n",
       "Max_PCC_GM_abiotic       -0.001354   -0.046663   -0.072686   0.056676   \n",
       "Max_PCC_SM_abiotic       -0.004194   -0.021227    0.054327  -0.014765   \n",
       "Max_PCC_GM_biotic         0.014195   -0.014142    0.009010   0.032353   \n",
       "Max_PCC_SM_biotic         0.004963    0.008451    0.080658  -0.006439   \n",
       "Max_PCC_GM_hormone        0.009639   -0.088582   -0.058476   0.006871   \n",
       "Max_PCC_SM_hormone       -0.004969   -0.061154    0.042842  -0.052028   \n",
       "Expr_med_dev             -0.020867   -0.105114   -0.294494   0.108895   \n",
       "Expr_max_dev             -0.006981   -0.102642   -0.136162  -0.041977   \n",
       "Expr_breadth_dev         -0.028465   -0.118330   -0.330194   0.159309   \n",
       "\n",
       "                    Max_PCC_GM_abiotic  Max_PCC_SM_abiotic  Max_PCC_GM_biotic  \\\n",
       "Func_likelihood               0.270916            0.046910           0.133880   \n",
       "Fam_size                     -0.158623            0.013337          -0.052723   \n",
       "Max_id_paralog               -0.026789           -0.020144          -0.027380   \n",
       "WGD_alpha                     0.022448           -0.004108           0.002457   \n",
       "WGD_beta_gamma               -0.001354           -0.004194           0.014195   \n",
       "Dup_recent                   -0.046663           -0.021227          -0.014142   \n",
       "Dup_tandem                   -0.072686            0.054327           0.009010   \n",
       "Singleton                     0.056676           -0.014765           0.032353   \n",
       "Max_PCC_GM_abiotic            1.000000            0.702527           0.327993   \n",
       "Max_PCC_SM_abiotic            0.702527            1.000000           0.272101   \n",
       "Max_PCC_GM_biotic             0.327993            0.272101           1.000000   \n",
       "Max_PCC_SM_biotic             0.275294            0.311541           0.786535   \n",
       "Max_PCC_GM_hormone            0.166645            0.076733           0.103191   \n",
       "Max_PCC_SM_hormone            0.054970            0.103616           0.036462   \n",
       "Expr_med_dev                  0.312563            0.094686           0.169092   \n",
       "Expr_max_dev                  0.215558            0.151211           0.173781   \n",
       "Expr_breadth_dev              0.238961            0.025415           0.066782   \n",
       "\n",
       "                    Max_PCC_SM_biotic  Max_PCC_GM_hormone  Max_PCC_SM_hormone  \\\n",
       "Func_likelihood              0.010729            0.252289            0.087491   \n",
       "Fam_size                     0.028097           -0.096479            0.003539   \n",
       "Max_id_paralog              -0.002215            0.031349            0.060209   \n",
       "WGD_alpha                   -0.011307            0.011289            0.000698   \n",
       "WGD_beta_gamma               0.004963            0.009639           -0.004969   \n",
       "Dup_recent                   0.008451           -0.088582           -0.061154   \n",
       "Dup_tandem                   0.080658           -0.058476            0.042842   \n",
       "Singleton                   -0.006439            0.006871           -0.052028   \n",
       "Max_PCC_GM_abiotic           0.275294            0.166645            0.054970   \n",
       "Max_PCC_SM_abiotic           0.311541            0.076733            0.103616   \n",
       "Max_PCC_GM_biotic            0.786535            0.103191            0.036462   \n",
       "Max_PCC_SM_biotic            1.000000            0.082373            0.073251   \n",
       "Max_PCC_GM_hormone           0.082373            1.000000            0.721146   \n",
       "Max_PCC_SM_hormone           0.073251            0.721146            1.000000   \n",
       "Expr_med_dev                 0.046364            0.272466            0.113461   \n",
       "Expr_max_dev                 0.138260            0.252165            0.197556   \n",
       "Expr_breadth_dev            -0.050216            0.243433            0.083583   \n",
       "\n",
       "                    Expr_med_dev  Expr_max_dev  Expr_breadth_dev  \n",
       "Func_likelihood         0.809380      0.486005          0.803178  \n",
       "Fam_size               -0.381190     -0.105345         -0.439901  \n",
       "Max_id_paralog         -0.013421      0.076196         -0.051526  \n",
       "WGD_alpha               0.039406     -0.011395          0.049960  \n",
       "WGD_beta_gamma         -0.020867     -0.006981         -0.028465  \n",
       "Dup_recent             -0.105114     -0.102642         -0.118330  \n",
       "Dup_tandem             -0.294494     -0.136162         -0.330194  \n",
       "Singleton               0.108895     -0.041977          0.159309  \n",
       "Max_PCC_GM_abiotic      0.312563      0.215558          0.238961  \n",
       "Max_PCC_SM_abiotic      0.094686      0.151211          0.025415  \n",
       "Max_PCC_GM_biotic       0.169092      0.173781          0.066782  \n",
       "Max_PCC_SM_biotic       0.046364      0.138260         -0.050216  \n",
       "Max_PCC_GM_hormone      0.272466      0.252165          0.243433  \n",
       "Max_PCC_SM_hormone      0.113461      0.197556          0.083583  \n",
       "Expr_med_dev            1.000000      0.580395          0.855852  \n",
       "Expr_max_dev            0.580395      1.000000          0.426136  \n",
       "Expr_breadth_dev        0.855852      0.426136          1.000000  "
      ]
     },
     "execution_count": 8,
     "metadata": {},
     "output_type": "execute_result"
    }
   ],
   "source": [
    "# Calculate Spearman's rank correlations for all feature pairs\n",
    "corr = feature_values.corr(method = 'spearman')\n",
    "corr"
   ]
  },
  {
   "cell_type": "markdown",
   "metadata": {},
   "source": [
    "### ___2.4 Multi-variate graphical EDA___"
   ]
  },
  {
   "cell_type": "markdown",
   "metadata": {},
   "source": [
    "&#9989; **<font color=blue>DO THIS:</font>** Plot the pairwise Spearman's rank correlations of all features as a heatmap using Seaborn."
   ]
  },
  {
   "cell_type": "code",
   "execution_count": 9,
   "metadata": {},
   "outputs": [
    {
     "data": {
      "text/plain": [
       "<AxesSubplot:>"
      ]
     },
     "execution_count": 9,
     "metadata": {},
     "output_type": "execute_result"
    },
    {
     "data": {
      "image/png": "[encoded data removed]",
      "text/plain": [
       "<Figure size 504x432 with 2 Axes>"
      ]
     },
     "metadata": {
      "needs_background": "light"
     },
     "output_type": "display_data"
    }
   ],
   "source": [
    "import seaborn as sns\n",
    "import matplotlib.pyplot as plt\n",
    "\n",
    "plt.figure(figsize=(7,6))\n",
    "sns.heatmap(corr, cmap=\"coolwarm\")"
   ]
  },
  {
   "cell_type": "markdown",
   "metadata": {},
   "source": [
    "&#9989; **<font color=red>QUESTION:</font>**  Discuss with your neighbors, did you see any issues with the dataset based on the univariate analyses?"
   ]
  },
  {
   "cell_type": "markdown",
   "metadata": {},
   "source": [
    "### &#9978; **<font color=purple>PAUSE: once you finish discussion, please turn your attention to the instructor. </font>**"
   ]
  },
  {
   "cell_type": "markdown",
   "metadata": {},
   "source": [
    "---\n",
    "<a name=\"step3\"></a>\n",
    "## __Step 3: Split train/test__\n",
    "\n",
    "The best practice is alway to set aside testing data as early as you possibly can. This way, the testing data is truly independent from any of the modeling process aside from the processing steps needed. Nonetheless, there may be things you need to take care of first before splitting the data. In this example, we need to rid of unwanted instances before data split."
   ]
  },
  {
   "cell_type": "markdown",
   "metadata": {},
   "source": [
    "\n",
    "### ___3.1 Deal with unwanted instances___\n",
    "\n",
    "&#9989; **<font color=blue>DO THIS:</font>** Filter data so only instances with `SM` and `GM` labels are kept. \n",
    "\n",
    "Write code to show that the filtering is working (i.e, no more `unknown` or `NaN`). \n",
    "\n",
    "__[Hint]:__ recall we used the `value_count()` function before for this purpose."
   ]
  },
  {
   "cell_type": "code",
   "execution_count": 10,
   "metadata": {},
   "outputs": [
    {
     "data": {
      "text/plain": [
       "GM    2212\n",
       "SM     410\n",
       "Name: Label, dtype: int64"
      ]
     },
     "execution_count": 10,
     "metadata": {},
     "output_type": "execute_result"
    }
   ],
   "source": [
    "labels              = ['GM', 'SM']\n",
    "label_column        = enzyme_gene['Label']\n",
    "label_column_filter = label_column.isin(labels)\n",
    "\n",
    "# COMMENT:\n",
    "# enzyme_gene dataframe with only GM and SM\n",
    "enzyme_gene_fil = enzyme_gene[label_column_filter]\n",
    "\n",
    "# Write code below to show that the filtering is working: No more unknowns.\n",
    "# If you are not sure how to proceed, look at the answer in the following cell.\n"
   ]
  },
  {
   "cell_type": "code",
   "execution_count": null,
   "metadata": {},
   "outputs": [],
   "source": [
    "##ANSWER##\n",
    "enzyme_gene_fil['Label'].value_counts()\n",
    "##ANSWER##"
   ]
  },
  {
   "cell_type": "markdown",
   "metadata": {},
   "source": [
    "&#9989; **<font color=blue>DO THIS:</font>** For classification tasks, class values are typically integers instead of texts (like SM or GM here). So, we will convert `GM` and `SM` to 0 and 1, respectively. \n",
    "\n",
    "Write code at the end to show that the filtering is working."
   ]
  },
  {
   "cell_type": "code",
   "execution_count": 11,
   "metadata": {},
   "outputs": [
    {
     "name": "stderr",
     "output_type": "stream",
     "text": [
      "\n",
      "A value is trying to be set on a copy of a slice from a DataFrame.\n",
      "Try using .loc[row_indexer,col_indexer] = value instead\n",
      "\n",
      "See the caveats in the documentation: https://pandas.pydata.org/pandas-docs/stable/user_guide/indexing.html#returning-a-view-versus-a-copy\n"
     ]
    },
    {
     "data": {
      "text/plain": [
       "0    2212\n",
       "1     410\n",
       "Name: Label, dtype: int64"
      ]
     },
     "execution_count": 11,
     "metadata": {},
     "output_type": "execute_result"
    }
   ],
   "source": [
    "# import the proprecessing functions\n",
    "from sklearn import preprocessing\n",
    "\n",
    "# Create a LabelEncoder object: this is simply a software tool that turn \n",
    "# (encode) texts into 0 or 1 (labels) in this case.\n",
    "le = preprocessing.LabelEncoder()\n",
    "\n",
    "# Send the Label column of enzyme_gene_fil dataframe to the LabelEncoder so\n",
    "# it can fit (i.e., learn) how to encode the labels.\n",
    "le.fit(enzyme_gene_fil.Label)\n",
    "\n",
    "# Now, used the fitted (learned) encoder to transform texts to labels\n",
    "enzyme_gene_fil['Label'] = le.transform(enzyme_gene_fil.Label)\n",
    "\n",
    "# Write code below to show that the Label encoding is working: 0s and 1s\n",
    "# If you are not sure how to proceed, look at the answer in the following cell.\n"
   ]
  },
  {
   "cell_type": "code",
   "execution_count": null,
   "metadata": {},
   "outputs": [],
   "source": [
    "##ANSWER##\n",
    "enzyme_gene_fil['Label'].value_counts()\n",
    "##ANSWER##"
   ]
  },
  {
   "cell_type": "markdown",
   "metadata": {},
   "source": [
    "### ___3.2 Split training/testing sets___\n",
    "\n",
    "&#9989; **<font color=blue>DO THIS:</font>** Let's split the training and testing data. \n",
    "\n",
    "Please comments on the lines as indicated."
   ]
  },
  {
   "cell_type": "code",
   "execution_count": 12,
   "metadata": {},
   "outputs": [
    {
     "name": "stdout",
     "output_type": "stream",
     "text": [
      "0    0.843586\n",
      "1    0.156414\n",
      "Name: Label, dtype: float64\n",
      "0    0.84381\n",
      "1    0.15619\n",
      "Name: Label, dtype: float64\n"
     ]
    }
   ],
   "source": [
    "from sklearn.model_selection import train_test_split\n",
    "\n",
    "# Split dataset into training and testing sets\n",
    "train, test = train_test_split(\n",
    "                enzyme_gene_fil,                # The data to split\n",
    "                test_size=0.2,                  # Proportion data for testing\n",
    "                stratify=enzyme_gene_fil.Label, # Make sure proportions of 0/1\n",
    "                                                # labels are similar between\n",
    "                                                # training and testing sets\n",
    "                random_state=rand_seed)\n",
    "\n",
    "# Comment: What do you think this is doing?\n",
    "print(train['Label'].value_counts()/train.shape[0])\n",
    "\n",
    "# Comment: What do you think this is doing?\n",
    "print(test['Label'].value_counts()/test.shape[0])"
   ]
  },
  {
   "cell_type": "markdown",
   "metadata": {},
   "source": [
    "&#9989; **<font color=red>QUESTION:</font>**  Discuss with your neighbors, what's the point of splitting training and testing data again?"
   ]
  },
  {
   "cell_type": "markdown",
   "metadata": {},
   "source": [
    "### &#9978; **<font color=purple>PAUSE: once you finish, please turn your attention to the instructor. </font>**"
   ]
  },
  {
   "cell_type": "markdown",
   "metadata": {},
   "source": [
    "---\n",
    "<a name=\"step4\"></a>\n",
    "## __Step 4: Feature engineering__\n",
    "\n",
    "Feature engineering involves processing, transforming, selecting, combining features in ways that will improve the model. "
   ]
  },
  {
   "cell_type": "markdown",
   "metadata": {},
   "source": [
    "### ___4.1 Deal with missing data___\n",
    "\n",
    "We will just try to deal with this in one way. __In reality__, You need to try multiple approaches to see how you can get the best results."
   ]
  },
  {
   "cell_type": "markdown",
   "metadata": {},
   "source": [
    "&#9989; **<font color=blue>DO THIS:</font>** First let's remind ourself how many instances are there after we get rid of `unknown`."
   ]
  },
  {
   "cell_type": "code",
   "execution_count": 13,
   "metadata": {},
   "outputs": [
    {
     "data": {
      "text/plain": [
       "(2097, 18)"
      ]
     },
     "execution_count": 13,
     "metadata": {},
     "output_type": "execute_result"
    }
   ],
   "source": [
    "enzyme_gene_fil.shape"
   ]
  },
  {
   "cell_type": "markdown",
   "metadata": {},
   "source": [
    "&#9989; **<font color=blue>DO THIS:</font>** Let's drop any rows with >25% missing values and see how many instances are still there."
   ]
  },
  {
   "cell_type": "code",
   "execution_count": 14,
   "metadata": {},
   "outputs": [
    {
     "data": {
      "text/plain": [
       "Gene\n",
       "AT1G44575     1\n",
       "AT1G16350     2\n",
       "AT4G00500     1\n",
       "AT4G26850     3\n",
       "ATCG00670    13\n",
       "dtype: int64"
      ]
     },
     "execution_count": 14,
     "metadata": {},
     "output_type": "execute_result"
    }
   ],
   "source": [
    "# COMMENT:\n",
    "# ask which values are null.\n",
    "row_na     = enzyme_gene_fil.isnull()\n",
    "row_na"
   ]
  },
  {
   "cell_type": "code",
   "execution_count": null,
   "metadata": {},
   "outputs": [],
   "source": [
    "# COMMENT:\n",
    "# count the mising values (null, NA, or called NaN: Not a Number) of each crow\n",
    "# row_na_num = train.isnull().sum(axis=1)\n",
    "row_na_num[:5]"
   ]
  },
  {
   "cell_type": "code",
   "execution_count": 15,
   "metadata": {},
   "outputs": [
    {
     "data": {
      "text/plain": [
       "0    1529\n",
       "1     272\n",
       "Name: Label, dtype: int64"
      ]
     },
     "execution_count": 15,
     "metadata": {},
     "output_type": "execute_result"
    }
   ],
   "source": [
    "num_feat     = train.shape[1] - 1            # number of features in the data\n",
    "rows_to_keep = row_na_num/num_feat < 0.25    # rows with <25% missing values\n",
    "train_keep = train[rows_to_keep]             # training data with rows to keep \n",
    "train_keep['Label'].value_counts()"
   ]
  },
  {
   "cell_type": "markdown",
   "metadata": {},
   "source": [
    "&#9989; **<font color=blue>DO THIS:</font>** A lot of data is removed but this is much better than just drop any row with missing values. Next, let's try to impute the missing values with `KNNImputer`."
   ]
  },
  {
   "cell_type": "code",
   "execution_count": 16,
   "metadata": {},
   "outputs": [
    {
     "data": {
      "text/html": [
       "<div>\n",
       "<style scoped>\n",
       "    .dataframe tbody tr th:only-of-type {\n",
       "        vertical-align: middle;\n",
       "    }\n",
       "\n",
       "    .dataframe tbody tr th {\n",
       "        vertical-align: top;\n",
       "    }\n",
       "\n",
       "    .dataframe thead th {\n",
       "        text-align: right;\n",
       "    }\n",
       "</style>\n",
       "<table border=\"1\" class=\"dataframe\">\n",
       "  <thead>\n",
       "    <tr style=\"text-align: right;\">\n",
       "      <th></th>\n",
       "      <th>Label</th>\n",
       "      <th>Func_likelihood</th>\n",
       "      <th>Fam_size</th>\n",
       "      <th>Max_id_paralog</th>\n",
       "      <th>WGD_alpha</th>\n",
       "      <th>WGD_beta_gamma</th>\n",
       "      <th>Dup_recent</th>\n",
       "      <th>Dup_tandem</th>\n",
       "      <th>Singleton</th>\n",
       "      <th>Max_PCC_GM_abiotic</th>\n",
       "      <th>Max_PCC_SM_abiotic</th>\n",
       "      <th>Max_PCC_GM_biotic</th>\n",
       "      <th>Max_PCC_SM_biotic</th>\n",
       "      <th>Max_PCC_GM_hormone</th>\n",
       "      <th>Max_PCC_SM_hormone</th>\n",
       "      <th>Expr_med_dev</th>\n",
       "      <th>Expr_max_dev</th>\n",
       "      <th>Expr_breadth_dev</th>\n",
       "    </tr>\n",
       "  </thead>\n",
       "  <tbody>\n",
       "    <tr>\n",
       "      <th>1030</th>\n",
       "      <td>0.0</td>\n",
       "      <td>0.693</td>\n",
       "      <td>6.0</td>\n",
       "      <td>77.30</td>\n",
       "      <td>0.0</td>\n",
       "      <td>0.0</td>\n",
       "      <td>0.0</td>\n",
       "      <td>0.0</td>\n",
       "      <td>0.0</td>\n",
       "      <td>0.723</td>\n",
       "      <td>0.982</td>\n",
       "      <td>0.948</td>\n",
       "      <td>0.944</td>\n",
       "      <td>0.685</td>\n",
       "      <td>0.595</td>\n",
       "      <td>4.715600</td>\n",
       "      <td>446.026778</td>\n",
       "      <td>6.0</td>\n",
       "    </tr>\n",
       "    <tr>\n",
       "      <th>868</th>\n",
       "      <td>0.0</td>\n",
       "      <td>0.230</td>\n",
       "      <td>28.0</td>\n",
       "      <td>68.18</td>\n",
       "      <td>1.0</td>\n",
       "      <td>0.0</td>\n",
       "      <td>0.0</td>\n",
       "      <td>0.0</td>\n",
       "      <td>0.0</td>\n",
       "      <td>0.865</td>\n",
       "      <td>0.916</td>\n",
       "      <td>0.954</td>\n",
       "      <td>0.916</td>\n",
       "      <td>0.650</td>\n",
       "      <td>0.576</td>\n",
       "      <td>12.973701</td>\n",
       "      <td>132.208146</td>\n",
       "      <td>3.0</td>\n",
       "    </tr>\n",
       "  </tbody>\n",
       "</table>\n",
       "</div>"
      ],
      "text/plain": [
       "      Label  Func_likelihood  Fam_size  Max_id_paralog  WGD_alpha  \\\n",
       "1030    0.0            0.693       6.0           77.30        0.0   \n",
       "868     0.0            0.230      28.0           68.18        1.0   \n",
       "\n",
       "      WGD_beta_gamma  Dup_recent  Dup_tandem  Singleton  Max_PCC_GM_abiotic  \\\n",
       "1030             0.0         0.0         0.0        0.0               0.723   \n",
       "868              0.0         0.0         0.0        0.0               0.865   \n",
       "\n",
       "      Max_PCC_SM_abiotic  Max_PCC_GM_biotic  Max_PCC_SM_biotic  \\\n",
       "1030               0.982              0.948              0.944   \n",
       "868                0.916              0.954              0.916   \n",
       "\n",
       "      Max_PCC_GM_hormone  Max_PCC_SM_hormone  Expr_med_dev  Expr_max_dev  \\\n",
       "1030               0.685               0.595      4.715600    446.026778   \n",
       "868                0.650               0.576     12.973701    132.208146   \n",
       "\n",
       "      Expr_breadth_dev  \n",
       "1030               6.0  \n",
       "868                3.0  "
      ]
     },
     "execution_count": 16,
     "metadata": {},
     "output_type": "execute_result"
    }
   ],
   "source": [
    "from sklearn.impute import KNNImputer\n",
    "\n",
    "# Create an imputer object to imptue our data\n",
    "# n_neighbors is the number of neighbors used to estimate the missing values.\n",
    "imputer = KNNImputer(n_neighbors=5)\n",
    "\n",
    "# Train the imputer with training data\n",
    "imputer.fit(train_keep)\n",
    "\n",
    "# Transform missing values into imputed values, hence train_keep_imp (imputed)\n",
    "train_keep_imp = imputer.transform(train_keep)\n",
    "\n",
    "# The thing with KNNImputer is it create train_keep_imp as a Numpy array so\n",
    "# we don't have the column names any more. Because I really want to know what \n",
    "# these columns are, so let's turn this back to a DataFrame with column names.\n",
    "train_keep_imp = pd.DataFrame(train_keep_imp, columns=train.columns)\n",
    "train_keep_imp.sample(2)"
   ]
  },
  {
   "cell_type": "markdown",
   "metadata": {},
   "source": [
    "__Note__ that there is a hyperparamter here: `n_neighbors`. We set it to 5 here but __in reality__, multiple values need to be evaluated. Also, you DO NOT impute labels. We did not exclude the label column because we have make sure there is no missing value early on. So imputation will not impact it."
   ]
  },
  {
   "cell_type": "markdown",
   "metadata": {},
   "source": [
    "&#9989; **<font color=blue>DO THIS:</font>** Write code that will impute the testing set:\n",
    "1. Drop any rows with > 25% missing values.\n",
    "2. Impute missing value with KNNImputer.\n",
    "3. Check that there is no missing value."
   ]
  },
  {
   "cell_type": "code",
   "execution_count": 18,
   "metadata": {},
   "outputs": [],
   "source": [
    "# put your code here\n",
    "\n",
    "\n",
    "# I encourage you to try to figure this out. If you get stuck. Look at the \n",
    "# answer below and comments on what each line does."
   ]
  },
  {
   "cell_type": "code",
   "execution_count": 19,
   "metadata": {},
   "outputs": [
    {
     "name": "stdout",
     "output_type": "stream",
     "text": [
      "0    367\n",
      "1     63\n",
      "Name: Label, dtype: int64\n"
     ]
    },
    {
     "data": {
      "text/plain": [
       "Label                 0\n",
       "Func_likelihood       0\n",
       "Fam_size              0\n",
       "Max_id_paralog        0\n",
       "WGD_alpha             0\n",
       "WGD_beta_gamma        0\n",
       "Dup_recent            0\n",
       "Dup_tandem            0\n",
       "Singleton             0\n",
       "Max_PCC_GM_abiotic    0\n",
       "Max_PCC_SM_abiotic    0\n",
       "Max_PCC_GM_biotic     0\n",
       "Max_PCC_SM_biotic     0\n",
       "Max_PCC_GM_hormone    0\n",
       "Max_PCC_SM_hormone    0\n",
       "Expr_med_dev          0\n",
       "Expr_max_dev          0\n",
       "Expr_breadth_dev      0\n",
       "dtype: int64"
      ]
     },
     "execution_count": 19,
     "metadata": {},
     "output_type": "execute_result"
    }
   ],
   "source": [
    "##ANSWER##\n",
    "# Drop rows with >25% missing values\n",
    "row_na_num = test.isnull().sum(axis=1)\n",
    "num_feat   = test.shape[1] - 1\n",
    "test_keep  = test[row_na_num/num_feat < 0.25]\n",
    "print(test_keep['Label'].value_counts())\n",
    "\n",
    "# Impute missing values\n",
    "test_keep_imp = imputer.transform(test_keep)\n",
    "test_keep_imp = pd.DataFrame(test_keep_imp, columns=test.columns)\n",
    "test_keep_imp.isnull().sum()\n",
    "##ANSWER##"
   ]
  },
  {
   "cell_type": "markdown",
   "metadata": {},
   "source": [
    "__Note:__ `testing` data should never be used to `fit` the imputer. Instead, you should use the fitted imputer to `tranform` test set."
   ]
  },
  {
   "cell_type": "markdown",
   "metadata": {},
   "source": [
    "### &#9978; **<font color=purple>PAUSE: please turn your attention to the instructor. </font>**"
   ]
  },
  {
   "cell_type": "markdown",
   "metadata": {},
   "source": [
    "### ___4.2 Deal with data imbalance___"
   ]
  },
  {
   "cell_type": "markdown",
   "metadata": {},
   "source": [
    "&#9989; **<font color=blue>DO THIS:</font>** Here we will use a hybrid approach:\n",
    "- Up-sample the minority class so it has twice as many instances __AND__ \n",
    "- Downsample the majority class so it is the same number as the minority.\n",
    "\n",
    "After you run the following cell with the values I provided:\n",
    "- Play with `sampling_strategy` values in both `SMOTE` and `RandomUnderSampler`.\n",
    "- Discuss with your neighbors what these values mean and how do they impact the ratio between the two classes."
   ]
  },
  {
   "cell_type": "code",
   "execution_count": 20,
   "metadata": {},
   "outputs": [
    {
     "data": {
      "text/html": [
       "<div>\n",
       "<style scoped>\n",
       "    .dataframe tbody tr th:only-of-type {\n",
       "        vertical-align: middle;\n",
       "    }\n",
       "\n",
       "    .dataframe tbody tr th {\n",
       "        vertical-align: top;\n",
       "    }\n",
       "\n",
       "    .dataframe thead th {\n",
       "        text-align: right;\n",
       "    }\n",
       "</style>\n",
       "<table border=\"1\" class=\"dataframe\">\n",
       "  <thead>\n",
       "    <tr style=\"text-align: right;\">\n",
       "      <th></th>\n",
       "      <th>Label</th>\n",
       "      <th>Func_likelihood</th>\n",
       "      <th>Fam_size</th>\n",
       "      <th>Max_id_paralog</th>\n",
       "      <th>WGD_alpha</th>\n",
       "      <th>WGD_beta_gamma</th>\n",
       "      <th>Dup_recent</th>\n",
       "      <th>Dup_tandem</th>\n",
       "      <th>Singleton</th>\n",
       "      <th>Max_PCC_GM_abiotic</th>\n",
       "      <th>Max_PCC_SM_abiotic</th>\n",
       "      <th>Max_PCC_GM_biotic</th>\n",
       "      <th>Max_PCC_SM_biotic</th>\n",
       "      <th>Max_PCC_GM_hormone</th>\n",
       "      <th>Max_PCC_SM_hormone</th>\n",
       "      <th>Expr_med_dev</th>\n",
       "      <th>Expr_max_dev</th>\n",
       "      <th>Expr_breadth_dev</th>\n",
       "    </tr>\n",
       "  </thead>\n",
       "  <tbody>\n",
       "    <tr>\n",
       "      <th>0</th>\n",
       "      <td>0.0</td>\n",
       "      <td>0.960</td>\n",
       "      <td>1.0</td>\n",
       "      <td>80.896</td>\n",
       "      <td>0.0</td>\n",
       "      <td>1.0</td>\n",
       "      <td>0.0</td>\n",
       "      <td>0.0</td>\n",
       "      <td>0.0</td>\n",
       "      <td>0.913</td>\n",
       "      <td>0.825</td>\n",
       "      <td>0.987</td>\n",
       "      <td>0.936</td>\n",
       "      <td>0.815</td>\n",
       "      <td>0.634</td>\n",
       "      <td>8672.032761</td>\n",
       "      <td>14827.084360</td>\n",
       "      <td>62.0</td>\n",
       "    </tr>\n",
       "    <tr>\n",
       "      <th>1</th>\n",
       "      <td>0.0</td>\n",
       "      <td>1.000</td>\n",
       "      <td>2.0</td>\n",
       "      <td>84.490</td>\n",
       "      <td>0.2</td>\n",
       "      <td>0.0</td>\n",
       "      <td>0.0</td>\n",
       "      <td>0.0</td>\n",
       "      <td>0.0</td>\n",
       "      <td>0.885</td>\n",
       "      <td>0.701</td>\n",
       "      <td>0.903</td>\n",
       "      <td>0.800</td>\n",
       "      <td>0.823</td>\n",
       "      <td>0.685</td>\n",
       "      <td>453.763209</td>\n",
       "      <td>1073.630540</td>\n",
       "      <td>63.0</td>\n",
       "    </tr>\n",
       "    <tr>\n",
       "      <th>2</th>\n",
       "      <td>0.0</td>\n",
       "      <td>0.878</td>\n",
       "      <td>3.0</td>\n",
       "      <td>66.250</td>\n",
       "      <td>0.0</td>\n",
       "      <td>1.0</td>\n",
       "      <td>0.0</td>\n",
       "      <td>0.0</td>\n",
       "      <td>0.0</td>\n",
       "      <td>0.744</td>\n",
       "      <td>0.741</td>\n",
       "      <td>0.800</td>\n",
       "      <td>0.722</td>\n",
       "      <td>0.663</td>\n",
       "      <td>0.502</td>\n",
       "      <td>109.881133</td>\n",
       "      <td>350.012261</td>\n",
       "      <td>63.0</td>\n",
       "    </tr>\n",
       "    <tr>\n",
       "      <th>3</th>\n",
       "      <td>0.0</td>\n",
       "      <td>1.000</td>\n",
       "      <td>2.0</td>\n",
       "      <td>76.850</td>\n",
       "      <td>0.0</td>\n",
       "      <td>0.0</td>\n",
       "      <td>0.0</td>\n",
       "      <td>0.2</td>\n",
       "      <td>0.0</td>\n",
       "      <td>0.834</td>\n",
       "      <td>0.823</td>\n",
       "      <td>0.761</td>\n",
       "      <td>0.694</td>\n",
       "      <td>0.841</td>\n",
       "      <td>0.710</td>\n",
       "      <td>1527.830268</td>\n",
       "      <td>5499.834040</td>\n",
       "      <td>63.0</td>\n",
       "    </tr>\n",
       "    <tr>\n",
       "      <th>4</th>\n",
       "      <td>1.0</td>\n",
       "      <td>0.150</td>\n",
       "      <td>17.0</td>\n",
       "      <td>97.860</td>\n",
       "      <td>0.0</td>\n",
       "      <td>0.0</td>\n",
       "      <td>1.0</td>\n",
       "      <td>1.0</td>\n",
       "      <td>0.0</td>\n",
       "      <td>0.863</td>\n",
       "      <td>0.981</td>\n",
       "      <td>0.812</td>\n",
       "      <td>0.967</td>\n",
       "      <td>0.776</td>\n",
       "      <td>0.661</td>\n",
       "      <td>53.147587</td>\n",
       "      <td>1074.500940</td>\n",
       "      <td>53.0</td>\n",
       "    </tr>\n",
       "  </tbody>\n",
       "</table>\n",
       "</div>"
      ],
      "text/plain": [
       "   Label  Func_likelihood  Fam_size  Max_id_paralog  WGD_alpha  \\\n",
       "0    0.0            0.960       1.0          80.896        0.0   \n",
       "1    0.0            1.000       2.0          84.490        0.2   \n",
       "2    0.0            0.878       3.0          66.250        0.0   \n",
       "3    0.0            1.000       2.0          76.850        0.0   \n",
       "4    1.0            0.150      17.0          97.860        0.0   \n",
       "\n",
       "   WGD_beta_gamma  Dup_recent  Dup_tandem  Singleton  Max_PCC_GM_abiotic  \\\n",
       "0             1.0         0.0         0.0        0.0               0.913   \n",
       "1             0.0         0.0         0.0        0.0               0.885   \n",
       "2             1.0         0.0         0.0        0.0               0.744   \n",
       "3             0.0         0.0         0.2        0.0               0.834   \n",
       "4             0.0         1.0         1.0        0.0               0.863   \n",
       "\n",
       "   Max_PCC_SM_abiotic  Max_PCC_GM_biotic  Max_PCC_SM_biotic  \\\n",
       "0               0.825              0.987              0.936   \n",
       "1               0.701              0.903              0.800   \n",
       "2               0.741              0.800              0.722   \n",
       "3               0.823              0.761              0.694   \n",
       "4               0.981              0.812              0.967   \n",
       "\n",
       "   Max_PCC_GM_hormone  Max_PCC_SM_hormone  Expr_med_dev  Expr_max_dev  \\\n",
       "0               0.815               0.634   8672.032761  14827.084360   \n",
       "1               0.823               0.685    453.763209   1073.630540   \n",
       "2               0.663               0.502    109.881133    350.012261   \n",
       "3               0.841               0.710   1527.830268   5499.834040   \n",
       "4               0.776               0.661     53.147587   1074.500940   \n",
       "\n",
       "   Expr_breadth_dev  \n",
       "0              62.0  \n",
       "1              63.0  \n",
       "2              63.0  \n",
       "3              63.0  \n",
       "4              53.0  "
      ]
     },
     "execution_count": 20,
     "metadata": {},
     "output_type": "execute_result"
    }
   ],
   "source": [
    "train_keep_imp.head()"
   ]
  },
  {
   "cell_type": "code",
   "execution_count": null,
   "metadata": {},
   "outputs": [],
   "source": [
    "from collections import Counter\n",
    "from imblearn.over_sampling import SMOTE\n",
    "from imblearn.under_sampling import RandomUnderSampler\n",
    "from imblearn.pipeline import Pipeline\n",
    "\n",
    "X_train = train_keep_imp.iloc[:,1:] # feature data\n",
    "y_train = train_keep_imp.iloc[:,0]  # labels\n",
    "\n",
    "# This will be used in many other occasions.\n",
    "feat_names = X_train.columns \n",
    "\n",
    "# summarize class distribution\n",
    "counter = Counter(y_train)\n",
    "print(\"Before:\", counter)\n",
    "\n",
    "# Over-sample minority, under-sample majority\n",
    "over = SMOTE(sampling_strategy=0.4)\n",
    "under = RandomUnderSampler(sampling_strategy=1)\n",
    "steps = [('o', over), ('u', under)]\n",
    "pipeline = Pipeline(steps=steps)\n",
    "\n",
    "# transform the dataset\n",
    "X_train_bal, y_train = pipeline.fit_resample(X_train, y_train)\n",
    "\n",
    "# summarize the new class distribution\n",
    "counter = Counter(y_train)\n",
    "print(\"After :\", counter)"
   ]
  },
  {
   "cell_type": "markdown",
   "metadata": {},
   "source": [
    "&#9989; **<font color=red>QUESTION:</font>** Resampling, particularly upscampling can __only__ be applied to the training data. The testing set __should not__ be changed in this step. Discuss with your neighbor, why is that?"
   ]
  },
  {
   "cell_type": "markdown",
   "metadata": {},
   "source": [
    "<font size=+3>&#9998;</font> Put your answer here"
   ]
  },
  {
   "cell_type": "markdown",
   "metadata": {},
   "source": [
    "### &#9978; **<font color=purple>PAUSE: please turn your attention to the instructor. </font>**"
   ]
  },
  {
   "cell_type": "markdown",
   "metadata": {},
   "source": [
    "### ___Deal with data scaling___\n",
    "\n",
    "&#9989; **<font color=blue>DO THIS:</font>** Bassed on your exploratory data analsysi you probably the data range differ widely. Before we work on scaling the data, let's see how the data ranges differ:"
   ]
  },
  {
   "cell_type": "code",
   "execution_count": null,
   "metadata": {},
   "outputs": [],
   "source": [
    "X_train_bal.describe()"
   ]
  },
  {
   "cell_type": "markdown",
   "metadata": {},
   "source": [
    "&#9989; **<font color=blue>DO THIS:</font>**  In the cell below, let's use `RobustScaler` to scale the balanced training data feature values (`X_train_bal`).\n",
    "\n",
    "__DO NOT__ applying scaling to the labels (`y`).\n",
    "\n",
    "Call the scaled features as `X_train_scale`."
   ]
  },
  {
   "cell_type": "code",
   "execution_count": null,
   "metadata": {},
   "outputs": [],
   "source": [
    "from sklearn.preprocessing import RobustScaler\n",
    "\n",
    "scaler = RobustScaler()\n",
    "scaler.fit(X_train_bal)\n",
    "X_train_scale = scaler.transform(X_train_bal)\n",
    "X_train_scale = pd.DataFrame(X_train_scale, columns=X_train.columns)"
   ]
  },
  {
   "cell_type": "markdown",
   "metadata": {},
   "source": [
    "&#9989; **<font color=blue>DO THIS:</font>** Provide code below to process testing data so it is scaled the same way.\n",
    "- Create `X_test` and `y_test` with `test_keep_imp`.\n",
    "- Transform (but __do not__ fit) `X_test` with the `RobustScaler`."
   ]
  },
  {
   "cell_type": "code",
   "execution_count": null,
   "metadata": {},
   "outputs": [],
   "source": [
    "# put your code here\n",
    "\n",
    "\n",
    "# If you don't feel comfortable doing this, check out the answer below and\n",
    "# comment on what they are doing."
   ]
  },
  {
   "cell_type": "code",
   "execution_count": null,
   "metadata": {},
   "outputs": [],
   "source": [
    "# put your code here\n",
    "\n",
    "##ANSWER##\n",
    "X_test = test_keep_imp.iloc[:,1:]\n",
    "y_test = test_keep_imp.iloc[:,0]\n",
    "\n",
    "X_test_scale = scaler.transform(X_test)\n",
    "X_test_scale = pd.DataFrame(X_test_scale, columns=X_test.columns)\n",
    "##ANSWER##"
   ]
  },
  {
   "cell_type": "markdown",
   "metadata": {},
   "source": [
    "### &#9978; **<font color=purple>PAUSE: please turn your attention to the instructor. </font>**"
   ]
  },
  {
   "cell_type": "markdown",
   "metadata": {},
   "source": [
    "---\n",
    "<a name=\"step5\"></a>\n",
    "## __Step 5: Select model__\n",
    "\n",
    "Assume that we are happy with the feature engieerning outcome, the next phase is to:\n",
    "1. Determine which model (=algorithm, classifier, estimator) is the best given the training data,\n",
    "1. For each model, find (= tune) the potentially best combinations of hyperparameters, i.e., parameters that are not automately identified by the algorithm,\n",
    "1. For each hyperparameter combination, train `k` times based on a $k$-fold __cross-validation__ scheme. \n",
    "\n",
    "So this means that, for __each algorithm__ (e.g., Random Forest), the number of models you train will be:\n",
    "\n",
    "$$N_{\\text{training}} = N_{\\text{hyperparameter combination}} \\times k$$"
   ]
  },
  {
   "cell_type": "markdown",
   "metadata": {},
   "source": [
    "### ___Model 1: Random forest___\n",
    "\n",
    "&#9989; **<font color=blue>DO THIS:</font>** Here we will not go into details on how the RandomForest algorithm works. there is a substantial number of good tutorial/blog posts on RandomForest and I encourage you to look into it. Comments on the major steps as indicated."
   ]
  },
  {
   "cell_type": "code",
   "execution_count": null,
   "metadata": {},
   "outputs": [],
   "source": [
    "from sklearn.ensemble import RandomForestClassifier\n",
    "from sklearn.model_selection import GridSearchCV\n",
    "from sklearn.model_selection import train_test_split\n",
    "\n",
    "# Create a function for running RandomForest\n",
    "def run_randomforest(X_train, y_train):\n",
    "    # COMMENT: how many hyperparameter combinations we are testing here?\n",
    "    param_grid = {'n_estimators': [200, 500],\n",
    "                  'max_features': ['auto', 'sqrt', 'log2'],\n",
    "                  'max_depth' : [4,5,6,7,8],\n",
    "                  'criterion' :['gini', 'entropy']}\n",
    "\n",
    "    # COMMENT: what do you think this is doing?\n",
    "    rfc = RandomForestClassifier(random_state=rand_seed)\n",
    "\n",
    "    # COMMENT: what do you think this is doing?\n",
    "    rfc_gs = GridSearchCV(\n",
    "                rfc,\n",
    "                param_grid,\n",
    "                cv=5,              # COMMENT\n",
    "                verbose=2,\n",
    "                scoring='roc_auc', # COMMENT\n",
    "                n_jobs=8)          # number of concurrent jobs, you need to\n",
    "                                   # adjust this based on the number of CPU cores\n",
    "                                   # available on your machine.\n",
    "\n",
    "    # COMMENT: what does this do?\n",
    "    rfc_gs.fit(X_train, y_train)\n",
    "\n",
    "    return rfc_gs"
   ]
  },
  {
   "cell_type": "code",
   "execution_count": null,
   "metadata": {},
   "outputs": [],
   "source": [
    "rfc_gs = run_randomforest(X_train_scale, y_train)"
   ]
  },
  {
   "cell_type": "code",
   "execution_count": null,
   "metadata": {},
   "outputs": [],
   "source": [
    "print(dir(rfc_gs))"
   ]
  },
  {
   "cell_type": "markdown",
   "metadata": {},
   "source": [
    "&#9989; **<font color=blue>DO THIS:</font>** The line `dir(grid_search)` above is called to list all the methods and variables associated with the `grid_search` object. Based on the list, the code below will print out:\n",
    "\n",
    "1. The best hyperparameters\n",
    "1. The cross-validation folds.\n",
    "1. The scorer: This is used to find the best estimator. \n",
    "   - Here __ROC-AUC__ (Receiver Operating Characteristic-Area Under Curve) is used. A random model has a score of 0.5 and a perfect model has a score of 1. It is also referred to as auROC, aucROC, AUC-ROC, ...\n",
    "   - Note that there are [many other scorers](https://scikit-learn.org/stable/modules/model_evaluation.html#scoring-parameter). So this is another hyperparmeter you can tune.\n",
    "1. The best score: this is averged across CV folds for the best estimator."
   ]
  },
  {
   "cell_type": "code",
   "execution_count": null,
   "metadata": {},
   "outputs": [],
   "source": [
    "print(rfc_gs.best_params_)\n",
    "print(rfc_gs.cv)\n",
    "print(rfc_gs.scorer_)\n",
    "print(rfc_gs.best_score_)"
   ]
  },
  {
   "cell_type": "markdown",
   "metadata": {},
   "source": [
    "&#9989; **<font color=blue>DO THIS:</font>** Although we finished the run rather quickly here, a typical model fitting process can take hours or even days! Thus, the models should be saved so you can reused them in the future. Run the following to save the best estimator. "
   ]
  },
  {
   "cell_type": "code",
   "execution_count": null,
   "metadata": {},
   "outputs": [],
   "source": [
    "import pickle\n",
    "\n",
    "filename = \"model_randomforest_gridsearch.save\"\n",
    "\n",
    "pickle.dump(rfc_gs.best_estimator_, open(filename, 'wb'))"
   ]
  },
  {
   "cell_type": "markdown",
   "metadata": {},
   "source": [
    "### ___Model 2: Support Vector Classifier (SVC)___\n",
    "\n",
    "&#9989; **<font color=blue>DO THIS:</font>** There are [many other supervised learning algorithms in Scikit-Learn](https://scikit-learn.org/stable/supervised_learning.html). Let's use [Support Vector Machine](https://scikit-learn.org/stable/modules/generated/sklearn.svm.SVC.html#sklearn.svm.SVC). The following code that will:\n",
    "\n",
    "- Set up a parameter grid - control the combination to be ~40. But in reality, this is much larger.\n",
    "- Initialize an SVC object\n",
    "- Initialize a `GridSearchCV` object\n",
    "- Train (fit) classifer with `GridSearchCV` object\n",
    "- Report best parameter and score\n",
    "- Save the best estimator as a pickled file.\n",
    "\n",
    "Provide comment on the indicated lines."
   ]
  },
  {
   "cell_type": "code",
   "execution_count": null,
   "metadata": {},
   "outputs": [],
   "source": [
    "# Train a SVM classification model\n",
    "from sklearn.model_selection import GridSearchCV\n",
    "from sklearn.svm import SVC\n",
    "\n",
    "# COMMENT: What does this do?\n",
    "param_grid = {'C': [1, 10, 1e2, 1e3, 1e4],\n",
    "              'gamma': [0.0001, 0.001, 0.01, 0.1], \n",
    "              'kernel': ['linear', 'rbf']}\n",
    "\n",
    "# COMMENT: What does this do?\n",
    "svc    = SVC()\n",
    "\n",
    "# COMMENT: What does this do?\n",
    "svc_gs = GridSearchCV(svc, param_grid, cv=5, verbose=2, scoring='roc_auc',\n",
    "                      n_jobs=8)\n",
    "\n",
    "# COMMENT: What does this do?\n",
    "svc_gs.fit(X_train_scale, y_train)\n",
    "\n",
    "# COMMENT: What does this do?\n",
    "filename = \"model_svc_gridsearch.save\"\n",
    "pickle.dump(svc_gs.best_estimator_, open(filename, 'wb'))\n",
    "\n",
    "# COMMENT: What does this do?\n",
    "svc_gs.best_params_, svc_gs.best_score_"
   ]
  },
  {
   "cell_type": "markdown",
   "metadata": {},
   "source": [
    "We just try two algorithms here, you should try a lot more.\n",
    "\n",
    "In addition, beyond the hyperparameters associated with the algorithms, there are other things to tuned here:\n",
    "- Cross validation methods: There are quite a number of approaches. See [this](https://scikit-learn.org/stable/modules/cross_validation.html) for examples.\n",
    "- Searching parameters: Grid search is but one approach. Two other popular methods are [randomized search](https://scikit-learn.org/stable/modules/generated/sklearn.model_selection.RandomizedSearchCV.html) and [Bayesian optimization](https://scikit-optimize.github.io/stable/modules/generated/skopt.BayesSearchCV.html). These should be treated tried as well."
   ]
  },
  {
   "cell_type": "markdown",
   "metadata": {},
   "source": [
    "### &#9978; **<font color=purple>PAUSE: please turn your attention to the instructor. </font>**"
   ]
  },
  {
   "cell_type": "markdown",
   "metadata": {},
   "source": [
    "---\n",
    "<a name=\"step6\"></a>\n",
    "## __Step 6. Repeat Step 2-5__\n",
    "\n",
    "In a typical ML project, after you have explored different algorithms to find the best __initial__ model, it is time to go back to tweak everything to see if you can do even better. Things don't just end here!\n",
    "\n",
    "An important step here is __feature selection__, a part of feature engineering, that involves selecting the most important features to rebuild your models."
   ]
  },
  {
   "cell_type": "markdown",
   "metadata": {
    "slideshow": {
     "slide_type": "slide"
    }
   },
   "source": [
    "### ___Ge feature importance using trained RandomForest model___"
   ]
  },
  {
   "cell_type": "markdown",
   "metadata": {
    "slideshow": {
     "slide_type": "subslide"
    }
   },
   "source": [
    "&#9989; **<font color=blue>DO THIS:</font>**  Uses the feature importance scores generated by the Random Forest model to choose the top features.\n"
   ]
  },
  {
   "cell_type": "code",
   "execution_count": null,
   "metadata": {},
   "outputs": [],
   "source": [
    "from sklearn.inspection import permutation_importance\n",
    "\n",
    "# Specify the best model (estimator) from our RandomForest run\n",
    "rfc = rfc_gs.best_estimator_\n",
    "\n",
    "# Calculate permutation importance of each feature\n",
    "result = permutation_importance(\n",
    "    rfc, X_train_scale, y_train, n_repeats=10, random_state=42, n_jobs=8)"
   ]
  },
  {
   "cell_type": "code",
   "execution_count": null,
   "metadata": {},
   "outputs": [],
   "source": [
    "# sort the permutation importance based on mean values\n",
    "sorted_idx = result.importances_mean.argsort()[::-1]\n",
    "sorted_idx"
   ]
  },
  {
   "cell_type": "code",
   "execution_count": null,
   "metadata": {},
   "outputs": [],
   "source": [
    "importance_values = result.importances[sorted_idx].T\n",
    "ordered_feature_label = X_train_scale.columns[sorted_idx]\n",
    "ordered_feature_label"
   ]
  },
  {
   "cell_type": "code",
   "execution_count": null,
   "metadata": {},
   "outputs": [],
   "source": [
    "# Plot the permutation importance results\n",
    "fig, ax = plt.subplots(figsize=(6,6))\n",
    "ax.boxplot(importance_values, \n",
    "           vert=False, \n",
    "           labels=ordered_feature_label)\n",
    "ax.set_title(\"Permutation Importances (training set)\")\n",
    "fig.tight_layout()\n",
    "plt.show()"
   ]
  },
  {
   "cell_type": "markdown",
   "metadata": {
    "slideshow": {
     "slide_type": "slide"
    }
   },
   "source": [
    "### ___Retrain model using top 10 features___"
   ]
  },
  {
   "cell_type": "markdown",
   "metadata": {
    "slideshow": {
     "slide_type": "subslide"
    }
   },
   "source": [
    "&#9989; **<font color=blue>DO THIS:</font>**  A simpler model is always better, because it is easier to understand and because it tends not to be overfitted. Let's use the top 10 features to train a new RandomForest model and see how well it does.\n"
   ]
  },
  {
   "cell_type": "code",
   "execution_count": null,
   "metadata": {
    "slideshow": {
     "slide_type": "fragment"
    }
   },
   "outputs": [],
   "source": [
    "# Get top 10 feature names\n",
    "feat_top10 = ordered_feature_label[:10]\n",
    "\n",
    "# Get training data with only the top 10 features\n",
    "X_train_top10 = X_train_scale[feat_top10]\n",
    "X_train_top10.shape"
   ]
  },
  {
   "cell_type": "code",
   "execution_count": null,
   "metadata": {
    "slideshow": {
     "slide_type": "fragment"
    }
   },
   "outputs": [],
   "source": [
    "# Do the same for testing data\n",
    "X_test_top10 = X_test_scale[feat_top10]\n",
    "X_test_top10.shape"
   ]
  },
  {
   "cell_type": "code",
   "execution_count": null,
   "metadata": {
    "slideshow": {
     "slide_type": "fragment"
    }
   },
   "outputs": [],
   "source": [
    "# Train RandomForest model via grid search\n",
    "rfc_gs_top10 = run_randomforest(X_train_top10, y_train)"
   ]
  },
  {
   "cell_type": "code",
   "execution_count": null,
   "metadata": {},
   "outputs": [],
   "source": [
    "# Get model score\n",
    "rfc_gs_top10.best_score_"
   ]
  },
  {
   "cell_type": "code",
   "execution_count": null,
   "metadata": {},
   "outputs": [],
   "source": [
    "# Save model\n",
    "filename = \"model_randomforest_gridsearch_top10feat.save\"\n",
    "\n",
    "pickle.dump(rfc_gs_top10.best_estimator_, open(filename, 'wb'))"
   ]
  },
  {
   "cell_type": "markdown",
   "metadata": {},
   "source": [
    "### &#9978; **<font color=purple>PAUSE: please turn your attention to the instructor. </font>**"
   ]
  },
  {
   "cell_type": "markdown",
   "metadata": {},
   "source": [
    "---\n",
    "<a name=\"step7\"></a>\n",
    "## __Step 7. Evaluate model with the testing set__\n",
    "\n",
    "Assume that we are done with model building and have a final model that we cannot improve further. Then it is time to use the testing set to evaluate the model."
   ]
  },
  {
   "cell_type": "markdown",
   "metadata": {},
   "source": [
    "&#9989; **<font color=blue>DO THIS:</font>** Random Forest does quite a lot better than SVC. So let's see how well it works on the testing set.\n",
    "\n",
    "Recall we save the best estimator for Random Forest earlier, let's load it up and evaluate it."
   ]
  },
  {
   "cell_type": "code",
   "execution_count": null,
   "metadata": {},
   "outputs": [],
   "source": [
    "filename1 = \"model_randomforest_gridsearch.save\"\n",
    "filename2 = \"model_randomforest_gridsearch_top10feat.save\"\n",
    "\n",
    "rfc_loaded       = pickle.load(open(filename1, 'rb')) # model using all features\n",
    "rfc_loaded_top10 = pickle.load(open(filename2, 'rb')) # model using top 10\n",
    "\n",
    "# predict testing data labels with the model using all features\n",
    "y_test_pred = rfc_loaded.predict(X_test_scale)\n",
    "\n",
    "# predict testing data labels with the model using top 10 features\n",
    "y_test_pred_top10 = rfc_loaded_top10.predict(X_test_top10)"
   ]
  },
  {
   "cell_type": "code",
   "execution_count": null,
   "metadata": {},
   "outputs": [],
   "source": [
    "# Take a look at the predictions\n",
    "y_test_pred[:10]"
   ]
  },
  {
   "cell_type": "code",
   "execution_count": null,
   "metadata": {},
   "outputs": [],
   "source": [
    "y_test_pred_top10[:10]"
   ]
  },
  {
   "cell_type": "markdown",
   "metadata": {},
   "source": [
    "### ___Confusion matrix___"
   ]
  },
  {
   "cell_type": "markdown",
   "metadata": {},
   "source": [
    "&#9989; **<font color=blue>DO THIS:</font>** Let's generate __confusion matrices__ for the predicted results from the model with all features and the one with just the top 10. Disucss with your neighbor, what does the confusion matrix tell us?"
   ]
  },
  {
   "cell_type": "code",
   "execution_count": null,
   "metadata": {},
   "outputs": [],
   "source": [
    "from sklearn.metrics import confusion_matrix\n",
    "from sklearn.metrics import ConfusionMatrixDisplay\n",
    "\n",
    "# Get confusion matrrix\n",
    "cm       = confusion_matrix(y_test, y_test_pred)\n",
    "cm_top10 = confusion_matrix(y_test, y_test_pred_top10)"
   ]
  },
  {
   "cell_type": "code",
   "execution_count": null,
   "metadata": {},
   "outputs": [],
   "source": [
    "# Plot the results\n",
    "fig, ax = plt.subplots(nrows=1, ncols=2, figsize=(10,5))\n",
    "cm_display  = ConfusionMatrixDisplay(cm).plot(ax=ax[0])\n",
    "cm_display2 = ConfusionMatrixDisplay(cm_top10).plot(ax=ax[1])"
   ]
  },
  {
   "cell_type": "markdown",
   "metadata": {},
   "source": [
    "The confusion matrix on the left tell us that:\n",
    "- Number of true negative ($tn$) = 281\n",
    "- Number of false positive ($fp$) = 86\n",
    "- Number of false negative ($fn$) = 16\n",
    "- Number of true positive ($tp$) = 47"
   ]
  },
  {
   "cell_type": "markdown",
   "metadata": {
    "tags": []
   },
   "source": [
    "&#9989; <font color=red>**QUESTION:**</font> Compare the results of these two models, should you use the one using all features or the one with top 10?"
   ]
  },
  {
   "cell_type": "markdown",
   "metadata": {},
   "source": [
    "### ___Classification report___"
   ]
  },
  {
   "cell_type": "markdown",
   "metadata": {},
   "source": [
    "&#9989; **<font color=blue>DO THIS:</font>** Let's also generate a classification report to get a few other performance matrics."
   ]
  },
  {
   "cell_type": "code",
   "execution_count": null,
   "metadata": {},
   "outputs": [],
   "source": [
    "from sklearn.metrics import classification_report\n",
    "\n",
    "# Set class names\n",
    "targets = [\"GM\", \"SM\"]\n",
    "\n",
    "report = classification_report(y_test, y_test_pred, target_names=targets)\n",
    "print(report)"
   ]
  },
  {
   "cell_type": "markdown",
   "metadata": {},
   "source": [
    "Let's define these metrics:\n",
    "\n",
    "|Metric|Formula|\n",
    "|---|---|\n",
    "|Precision|$p = tp/(tp + fp)$|\n",
    "|Recall|$r = tp / (tp + fn)$|\n",
    "|F1 score|$f1 = 2(p\\times r)/(p + r)$|\n",
    "|Accuracy|$(tp+tn)/(tp+fp)$|\n",
    "|Macro averge|$0.5\\times score_{\\text{class0}} + 0.5\\times score_{\\text{class1}}$|\n",
    "|Weighted averge|$P_{\\text{class0}}\\times score_{\\text{class0}} + P_{\\text{class1}}\\times score_{\\text{class1}}$<br>$P$: proportion of a class.|\n",
    "\n",
    "Support: number of each class (not a performance metric)\n"
   ]
  },
  {
   "cell_type": "markdown",
   "metadata": {},
   "source": [
    "### ___Graphics that help with evaluation___"
   ]
  },
  {
   "cell_type": "markdown",
   "metadata": {},
   "source": [
    "&#9989; **<font color=blue>DO THIS:</font>** Here we provide two examples: ROC-AUC curve and precision-recall curve. The red line indicate how a naive classifer woul fair with random guesses. We only plot these curves for the model with top 10 features."
   ]
  },
  {
   "cell_type": "code",
   "execution_count": null,
   "metadata": {},
   "outputs": [],
   "source": [
    "from sklearn.metrics import RocCurveDisplay\n",
    "from sklearn.metrics import PrecisionRecallDisplay\n",
    "\n",
    "def plot_curves(X, y, estimator):\n",
    "\n",
    "    fig, axs = plt.subplots(1, 2, figsize=(10,5))\n",
    "\n",
    "    # ROC-AUC curve\n",
    "    RocCurveDisplay.from_estimator(estimator, X, y, ax=axs[0])\n",
    "    axs[0].plot([0, 1], [0, 1],'r--')\n",
    "\n",
    "    # Precision-recall curve\n",
    "    PrecisionRecallDisplay.from_estimator(estimator, X, y, ax=axs[1])\n",
    "    axs[1].legend(loc='upper right')\n",
    "    axs[1].plot([0, 1], [0.1465, 0.1465],'r--')\n",
    "\n",
    "    plt.show()\n",
    "\n",
    "plot_curves(X_test_top10, y_test, rfc_loaded_top10)"
   ]
  },
  {
   "cell_type": "markdown",
   "metadata": {},
   "source": [
    "&#9989; **<font color=blue>DO THIS:</font>** Let's also get these curves for training data."
   ]
  },
  {
   "cell_type": "code",
   "execution_count": null,
   "metadata": {},
   "outputs": [],
   "source": [
    "plot_curves(X_train_top10, y_train, rfc_loaded_top10)"
   ]
  },
  {
   "cell_type": "markdown",
   "metadata": {
    "tags": []
   },
   "source": [
    "&#9989; <font color=red>**QUESTION:**</font> Discuss with your neighbor, why are the model performance for training data so much better than that for the testing set?\n",
    "\n",
    "[Note]: in both cases, we want the area under curve to be 1. A naive model will have a ROC-AUC of 0.5. But for Precision-Recall curve, the base line is __far below__ 0.5 like ROC-AUC. Why is that?"
   ]
  },
  {
   "cell_type": "markdown",
   "metadata": {},
   "source": [
    "### &#9978; **<font color=purple>PAUSE: please turn your attention to the instructor. </font>**"
   ]
  },
  {
   "cell_type": "markdown",
   "metadata": {},
   "source": [
    "---\n",
    "<a name=\"step7\"></a>\n",
    "## __Step 8. Interpret model__"
   ]
  },
  {
   "cell_type": "markdown",
   "metadata": {},
   "source": [
    "### ___Global interpetation using SHAP___"
   ]
  },
  {
   "cell_type": "markdown",
   "metadata": {},
   "source": [
    "&#9989; **<font color=blue>DO THIS:</font>** Run the code below to get [SHAP (SHapley Additive exPlanations)](https://shap.readthedocs.io/en/latest/index.html) values that use game theory to determine how important each feature is in contributing to a prediction. There are MANY, MANY things you can do with SHAP and we will first figure out which features are more important than the others."
   ]
  },
  {
   "cell_type": "code",
   "execution_count": null,
   "metadata": {},
   "outputs": [],
   "source": [
    "import shap\n",
    "shap.initjs()\n",
    "\n",
    "explainer = shap.TreeExplainer(rfc_loaded_top10)\n",
    "shap_values = explainer.shap_values(X_train_top10)\n",
    "shap.summary_plot(shap_values, X_train_top10, sort=True)"
   ]
  },
  {
   "cell_type": "markdown",
   "metadata": {},
   "source": [
    "We can see that `Fam_size` is the most important for both classes."
   ]
  },
  {
   "cell_type": "markdown",
   "metadata": {},
   "source": [
    "### ___SHAP values of different instances___"
   ]
  },
  {
   "cell_type": "markdown",
   "metadata": {},
   "source": [
    "&#9989; **<font color=blue>DO THIS:</font>** Another way to look at the SHAP values is by focusing on a particular class. In the example below, we focus on how different features contribute to the predictions of label=1 (SM):"
   ]
  },
  {
   "cell_type": "code",
   "execution_count": null,
   "metadata": {},
   "outputs": [],
   "source": [
    "shap.summary_plot(shap_values[1], X_train_top10, sort=True)"
   ]
  },
  {
   "cell_type": "markdown",
   "metadata": {
    "tags": []
   },
   "source": [
    "For each feature $x$, two SHAP values are generated for each instance: one for $x$'s contribution to class $0$ and the other for its contribution to class $1$. In the plot above, we are only looking at the contribution to class $1$ and each dot is an instance.\n",
    "\n",
    "Look at Fam_size (family size), instances with higher features values (i.e., in larger families) also tend to have higher positive SHAP values (i.e., positive contribution to be in class 1).\n",
    "\n",
    "&#9989; <font color=red>**QUESTION:**</font> Discuss with your neighbor and interpret what the `Func_likelihood` feature's SHAP value distribution means where a higher feature values correlate with lower SHAP."
   ]
  },
  {
   "cell_type": "markdown",
   "metadata": {},
   "source": [
    "<font size=+3>&#9998;</font> Put your answer to the above question here"
   ]
  },
  {
   "cell_type": "markdown",
   "metadata": {},
   "source": [
    "### ___Interacting features___"
   ]
  },
  {
   "cell_type": "markdown",
   "metadata": {},
   "source": [
    "&#9989; **<font color=blue>DO THIS:</font>** Beyond looking individual features, we can also see if there is any interactions between features. Run the followng and see if you detect any interactions between `Fam_size` and `Func_likelihood`."
   ]
  },
  {
   "cell_type": "code",
   "execution_count": null,
   "metadata": {},
   "outputs": [],
   "source": [
    "X_train_top10.columns"
   ]
  },
  {
   "cell_type": "code",
   "execution_count": null,
   "metadata": {},
   "outputs": [],
   "source": [
    "shap.dependence_plot(4, shap_values[1], X_train_top10, interaction_index=1)"
   ]
  },
  {
   "cell_type": "markdown",
   "metadata": {
    "tags": []
   },
   "source": [
    "&#9989; <font color=red>**QUESTION:**</font> Discuss with your neighbor, what's your interpretation of the above plot?"
   ]
  },
  {
   "cell_type": "markdown",
   "metadata": {},
   "source": [
    "### &#9978; **<font color=purple>PAUSE: please turn your attention to the instructor. </font>**"
   ]
  },
  {
   "cell_type": "markdown",
   "metadata": {},
   "source": [
    "-----\n",
    "### Congratulations, we're done!"
   ]
  }
 ],
 "metadata": {
  "kernelspec": {
   "display_name": "Python 3 (ipykernel)",
   "language": "python",
   "name": "python3"
  },
  "language_info": {
   "codemirror_mode": {
    "name": "ipython",
    "version": 3
   },
   "file_extension": ".py",
   "mimetype": "text/x-python",
   "name": "python",
   "nbconvert_exporter": "python",
   "pygments_lexer": "ipython3",
   "version": "3.10.4"
  }
 },
 "nbformat": 4,
 "nbformat_minor": 4
}
